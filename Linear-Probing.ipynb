{
 "cells": [
  {
   "cell_type": "code",
   "execution_count": 13,
   "id": "92733f0f",
   "metadata": {},
   "outputs": [],
   "source": [
    "class HashTable:\n",
    "    def __init__(self):\n",
    "        self.Max = 10\n",
    "        self.arr = [None for i in range(self.Max)]\n",
    "    def get_hash(self,key):\n",
    "        hash=0\n",
    "        for char in key: \n",
    "            hash += ord(char)\n",
    "        return hash % self.Max\n",
    "    \n",
    "    def __getitem__(self,key):\n",
    "        h = self.get_hash(key)\n",
    "        if self.arr[h] is None:\n",
    "            return\n",
    "        prob_range = self.get_prob_range(h)\n",
    "        for prob_index in prob_range:\n",
    "            element = self.arr[prob_index]\n",
    "            if element is None:\n",
    "                return\n",
    "            if element[0] == key:\n",
    "                return element[1]\n",
    "            \n",
    "    def __setitem__(self,key,val):\n",
    "        h = self.get_hash(key)\n",
    "        if self.arr[h] is None:\n",
    "            self.arr[h] = (key,val)\n",
    "        else: \n",
    "            new_h = self.find_solt(key,h)\n",
    "            self.arr[new_h] = (key,val)\n",
    "        print(self.arr)\n",
    "        \n",
    "    def get_prob_range(self,index):\n",
    "        return [*range(index, len(self.arr))] + [*range(0,index)]\n",
    "    \n",
    "    def find_solt(self,key,index):\n",
    "        prob_range = self.get_prob_range(index)\n",
    "        for prob_index in prob_range:\n",
    "            if self.arr[prob_index] is None:\n",
    "                return prob_index\n",
    "            if self.arr[prob_index][0] == key:\n",
    "                return prob_index\n",
    "        raise Exception(\"HashMap Full\")\n",
    "        \n",
    "    \n",
    "    def __delitem__(self,key):\n",
    "        h = self.get_hash(key)\n",
    "        prob_range = self.get_prob_range(h)\n",
    "        for prob_index in prob_range:\n",
    "            if self.arr[prob_index] is None:\n",
    "                return \n",
    "            if self.arr[prob_index][0] == key:\n",
    "                self.arr[prob_index]=None\n",
    "        print(self.arr)"
   ]
  },
  {
   "cell_type": "code",
   "execution_count": 14,
   "id": "6d7be550",
   "metadata": {},
   "outputs": [
    {
     "data": {
      "text/plain": [
       "[5, 6, 7, 0, 1, 2, 3]"
      ]
     },
     "execution_count": 14,
     "metadata": {},
     "output_type": "execute_result"
    }
   ],
   "source": [
    "[*range(5,8)]  + [*range(0,4)]"
   ]
  },
  {
   "cell_type": "code",
   "execution_count": 15,
   "id": "c390673b",
   "metadata": {},
   "outputs": [
    {
     "name": "stdout",
     "output_type": "stream",
     "text": [
      "[None, None, None, None, None, None, None, None, None, ('march 6', 20)]\n",
      "[('march 17', 88), None, None, None, None, None, None, None, None, ('march 6', 20)]\n"
     ]
    }
   ],
   "source": [
    "t = HashTable()\n",
    "t['march 6'] = 20\n",
    "t['march 17'] = 88"
   ]
  },
  {
   "cell_type": "code",
   "execution_count": 16,
   "id": "66e74be8",
   "metadata": {
    "scrolled": true
   },
   "outputs": [
    {
     "name": "stdout",
     "output_type": "stream",
     "text": [
      "[('march 17', 29), None, None, None, None, None, None, None, None, ('march 6', 20)]\n"
     ]
    }
   ],
   "source": [
    "t['march 17'] = 29"
   ]
  },
  {
   "cell_type": "code",
   "execution_count": 17,
   "id": "ff28a7dd",
   "metadata": {},
   "outputs": [
    {
     "name": "stdout",
     "output_type": "stream",
     "text": [
      "[('march 17', 29), ('nov 1', 1), None, None, None, None, None, None, None, ('march 6', 20)]\n"
     ]
    }
   ],
   "source": [
    "t['nov 1']=1"
   ]
  },
  {
   "cell_type": "code",
   "execution_count": 18,
   "id": "5014faf8",
   "metadata": {},
   "outputs": [
    {
     "name": "stdout",
     "output_type": "stream",
     "text": [
      "[('march 17', 29), ('nov 1', 1), None, None, None, None, None, ('march 33', 234), None, ('march 6', 20)]\n"
     ]
    }
   ],
   "source": [
    "t['march 33'] = 234"
   ]
  },
  {
   "cell_type": "code",
   "execution_count": 19,
   "id": "2ddb8813",
   "metadata": {},
   "outputs": [],
   "source": [
    "t['dec 1']"
   ]
  },
  {
   "cell_type": "code",
   "execution_count": 20,
   "id": "13d9ff54",
   "metadata": {},
   "outputs": [
    {
     "data": {
      "text/plain": [
       "234"
      ]
     },
     "execution_count": 20,
     "metadata": {},
     "output_type": "execute_result"
    }
   ],
   "source": [
    "t['march 33']"
   ]
  },
  {
   "cell_type": "code",
   "execution_count": 21,
   "id": "05677034",
   "metadata": {},
   "outputs": [
    {
     "name": "stdout",
     "output_type": "stream",
     "text": [
      "[('march 17', 29), ('nov 1', 1), None, None, None, None, None, ('march 33', 999), None, ('march 6', 20)]\n"
     ]
    }
   ],
   "source": [
    "t['march 33'] = 999"
   ]
  },
  {
   "cell_type": "code",
   "execution_count": 22,
   "id": "fb6076c6",
   "metadata": {},
   "outputs": [
    {
     "data": {
      "text/plain": [
       "999"
      ]
     },
     "execution_count": 22,
     "metadata": {},
     "output_type": "execute_result"
    }
   ],
   "source": [
    "t['march 33']"
   ]
  },
  {
   "cell_type": "code",
   "execution_count": 24,
   "id": "168597d3",
   "metadata": {},
   "outputs": [
    {
     "name": "stdout",
     "output_type": "stream",
     "text": [
      "[('march 17', 29), ('nov 1', 1), ('april 1', 87), ('april 3', 2322), ('april 4', 91), ('May 22', 4), ('May 7', 47), ('march 33', 999), ('april 2', 123), ('march 6', 20)]\n"
     ]
    }
   ],
   "source": [
    "t['april 2'] = 123"
   ]
  },
  {
   "cell_type": "code",
   "execution_count": 25,
   "id": "067bc882",
   "metadata": {},
   "outputs": [
    {
     "name": "stdout",
     "output_type": "stream",
     "text": [
      "[('march 17', 29), ('nov 1', 1), ('april 1', 87), ('april 3', 2322), ('april 4', 91), ('May 22', 4), ('May 7', 47), ('march 33', 999), ('april 2', 123), ('march 6', 20)]\n"
     ]
    }
   ],
   "source": [
    "t['May 7'] = 47"
   ]
  },
  {
   "cell_type": "code",
   "execution_count": 26,
   "id": "74f3079b",
   "metadata": {},
   "outputs": [
    {
     "name": "stdout",
     "output_type": "stream",
     "text": [
      "[('march 17', 29), ('nov 1', 1), ('april 1', 87), ('april 3', 2322), ('april 4', 91), ('May 22', 4), ('May 7', 47), ('march 33', 999), ('april 2', 123), ('march 6', 20)]\n"
     ]
    }
   ],
   "source": [
    "t['May 22'] = 4"
   ]
  },
  {
   "cell_type": "code",
   "execution_count": 27,
   "id": "02cf4e4a",
   "metadata": {},
   "outputs": [
    {
     "name": "stdout",
     "output_type": "stream",
     "text": [
      "[('march 17', 29), ('nov 1', 1), ('april 1', 87), ('april 3', 2322), ('april 4', 91), ('May 22', 4), ('May 7', 47), ('march 33', 999), ('april 2', 123), ('march 6', 20)]\n"
     ]
    }
   ],
   "source": [
    "t['april 4'] = 91"
   ]
  },
  {
   "cell_type": "code",
   "execution_count": 28,
   "id": "73f82e52",
   "metadata": {},
   "outputs": [
    {
     "name": "stdout",
     "output_type": "stream",
     "text": [
      "[('march 17', 29), ('nov 1', 1), ('april 1', 87), ('april 3', 2322), ('april 4', 91), ('May 22', 4), ('May 7', 47), ('march 33', 999), ('april 2', 123), ('march 6', 20)]\n"
     ]
    }
   ],
   "source": [
    "t['april 3'] = 2322"
   ]
  },
  {
   "cell_type": "code",
   "execution_count": 29,
   "id": "12c904a8",
   "metadata": {},
   "outputs": [
    {
     "name": "stdout",
     "output_type": "stream",
     "text": [
      "[('march 17', 29), ('nov 1', 1), ('april 1', 87), ('april 3', 2322), ('april 4', 91), ('May 22', 4), ('May 7', 47), ('march 33', 999), ('april 2', 123), ('march 6', 20)]\n"
     ]
    }
   ],
   "source": [
    "t['april 1'] = 87"
   ]
  },
  {
   "cell_type": "code",
   "execution_count": 30,
   "id": "1f9ff685",
   "metadata": {},
   "outputs": [
    {
     "ename": "Exception",
     "evalue": "HashMap Full",
     "output_type": "error",
     "traceback": [
      "\u001b[1;31m---------------------------------------------------------------------------\u001b[0m",
      "\u001b[1;31mException\u001b[0m                                 Traceback (most recent call last)",
      "Cell \u001b[1;32mIn[30], line 1\u001b[0m\n\u001b[1;32m----> 1\u001b[0m t[\u001b[38;5;124m'\u001b[39m\u001b[38;5;124mJan 1\u001b[39m\u001b[38;5;124m'\u001b[39m] \u001b[38;5;241m=\u001b[39m \u001b[38;5;241m0\u001b[39m\n",
      "Cell \u001b[1;32mIn[13], line 28\u001b[0m, in \u001b[0;36mHashTable.__setitem__\u001b[1;34m(self, key, val)\u001b[0m\n\u001b[0;32m     26\u001b[0m     \u001b[38;5;28mself\u001b[39m\u001b[38;5;241m.\u001b[39marr[h] \u001b[38;5;241m=\u001b[39m (key,val)\n\u001b[0;32m     27\u001b[0m \u001b[38;5;28;01melse\u001b[39;00m: \n\u001b[1;32m---> 28\u001b[0m     new_h \u001b[38;5;241m=\u001b[39m \u001b[38;5;28mself\u001b[39m\u001b[38;5;241m.\u001b[39mfind_solt(key,h)\n\u001b[0;32m     29\u001b[0m     \u001b[38;5;28mself\u001b[39m\u001b[38;5;241m.\u001b[39marr[new_h] \u001b[38;5;241m=\u001b[39m (key,val)\n\u001b[0;32m     30\u001b[0m \u001b[38;5;28mprint\u001b[39m(\u001b[38;5;28mself\u001b[39m\u001b[38;5;241m.\u001b[39marr)\n",
      "Cell \u001b[1;32mIn[13], line 42\u001b[0m, in \u001b[0;36mHashTable.find_solt\u001b[1;34m(self, key, index)\u001b[0m\n\u001b[0;32m     40\u001b[0m     \u001b[38;5;28;01mif\u001b[39;00m \u001b[38;5;28mself\u001b[39m\u001b[38;5;241m.\u001b[39marr[prob_index][\u001b[38;5;241m0\u001b[39m] \u001b[38;5;241m==\u001b[39m key:\n\u001b[0;32m     41\u001b[0m         \u001b[38;5;28;01mreturn\u001b[39;00m prob_index\n\u001b[1;32m---> 42\u001b[0m \u001b[38;5;28;01mraise\u001b[39;00m \u001b[38;5;167;01mException\u001b[39;00m(\u001b[38;5;124m\"\u001b[39m\u001b[38;5;124mHashMap Full\u001b[39m\u001b[38;5;124m\"\u001b[39m)\n",
      "\u001b[1;31mException\u001b[0m: HashMap Full"
     ]
    }
   ],
   "source": [
    "t['Jan 1'] = 0 "
   ]
  },
  {
   "cell_type": "code",
   "execution_count": 31,
   "id": "5cc64701",
   "metadata": {},
   "outputs": [
    {
     "name": "stdout",
     "output_type": "stream",
     "text": [
      "[('march 17', 29), ('nov 1', 1), ('april 1', 87), ('april 3', 2322), ('april 4', 91), ('May 22', 4), ('May 7', 47), ('march 33', 999), None, ('march 6', 20)]\n"
     ]
    }
   ],
   "source": [
    "del t['april 2']"
   ]
  },
  {
   "cell_type": "code",
   "execution_count": 32,
   "id": "54614308",
   "metadata": {},
   "outputs": [
    {
     "name": "stdout",
     "output_type": "stream",
     "text": [
      "[('march 17', 29), ('nov 1', 1), ('april 1', 87), ('april 3', 2322), ('april 4', 91), ('May 22', 4), ('May 7', 47), ('march 33', 999), ('Jan 1', 0), ('march 6', 20)]\n"
     ]
    }
   ],
   "source": [
    "t['Jan 1']=0"
   ]
  },
  {
   "cell_type": "code",
   "execution_count": null,
   "id": "b3637ad8",
   "metadata": {},
   "outputs": [],
   "source": []
  }
 ],
 "metadata": {
  "kernelspec": {
   "display_name": "Python 3 (ipykernel)",
   "language": "python",
   "name": "python3"
  },
  "language_info": {
   "codemirror_mode": {
    "name": "ipython",
    "version": 3
   },
   "file_extension": ".py",
   "mimetype": "text/x-python",
   "name": "python",
   "nbconvert_exporter": "python",
   "pygments_lexer": "ipython3",
   "version": "3.11.3"
  }
 },
 "nbformat": 4,
 "nbformat_minor": 5
}
