{
 "cells": [
  {
   "cell_type": "code",
   "execution_count": 4,
   "id": "db78a695",
   "metadata": {},
   "outputs": [],
   "source": [
    "stock_prices = []\n",
    "with open(\"D:/Study PDF/Python/stock_prices.csv\",\"r\") as f:\n",
    "    for line in f: \n",
    "        tokens = line.split(',')\n",
    "        day = tokens[0]\n",
    "        price = float(tokens[1])\n",
    "        stock_prices.append([day,price])"
   ]
  },
  {
   "cell_type": "code",
   "execution_count": 5,
   "id": "d6e0c4a3",
   "metadata": {},
   "outputs": [
    {
     "data": {
      "text/plain": [
       "[['06-Mar', 310.0],\n",
       " ['07-Mar', 340.0],\n",
       " ['08-Mar', 380.0],\n",
       " ['09-Mar', 302.0],\n",
       " ['10-Mar', 297.0],\n",
       " ['11-Mar', 323.0]]"
      ]
     },
     "execution_count": 5,
     "metadata": {},
     "output_type": "execute_result"
    }
   ],
   "source": [
    "stock_prices"
   ]
  },
  {
   "cell_type": "code",
   "execution_count": 6,
   "id": "b87a4e19",
   "metadata": {},
   "outputs": [
    {
     "name": "stdout",
     "output_type": "stream",
     "text": [
      "302.0\n"
     ]
    }
   ],
   "source": [
    "for element in stock_prices:\n",
    "    if element[0] == '09-Mar':\n",
    "        print(element[1])"
   ]
  },
  {
   "cell_type": "markdown",
   "id": "e6e51ec7",
   "metadata": {},
   "source": [
    "### Here the complexity is O^n"
   ]
  },
  {
   "cell_type": "code",
   "execution_count": 7,
   "id": "0cac129b",
   "metadata": {},
   "outputs": [],
   "source": [
    "stock_prices = {}\n",
    "with open(\"D:/Study PDF/Python/stock_prices.csv\",\"r\") as f:\n",
    "    for line in f: \n",
    "        tokens = line.split(',')\n",
    "        day = tokens[0]\n",
    "        price = float(tokens[1])\n",
    "        stock_prices[day] = price"
   ]
  },
  {
   "cell_type": "code",
   "execution_count": 8,
   "id": "82666522",
   "metadata": {},
   "outputs": [
    {
     "data": {
      "text/plain": [
       "{'06-Mar': 310.0,\n",
       " '07-Mar': 340.0,\n",
       " '08-Mar': 380.0,\n",
       " '09-Mar': 302.0,\n",
       " '10-Mar': 297.0,\n",
       " '11-Mar': 323.0}"
      ]
     },
     "execution_count": 8,
     "metadata": {},
     "output_type": "execute_result"
    }
   ],
   "source": [
    "stock_prices #dictiionary"
   ]
  },
  {
   "cell_type": "code",
   "execution_count": 9,
   "id": "96b2e764",
   "metadata": {},
   "outputs": [
    {
     "data": {
      "text/plain": [
       "302.0"
      ]
     },
     "execution_count": 9,
     "metadata": {},
     "output_type": "execute_result"
    }
   ],
   "source": [
    "stock_prices['09-Mar'] "
   ]
  },
  {
   "cell_type": "markdown",
   "id": "9c2bce1c",
   "metadata": {},
   "source": [
    "### Complexity of O is 1 here"
   ]
  },
  {
   "cell_type": "code",
   "execution_count": 10,
   "id": "3be738a6",
   "metadata": {},
   "outputs": [],
   "source": [
    "def get_hash(key):\n",
    "    h = 0 \n",
    "    for char in key:\n",
    "        h += ord(char)\n",
    "    return h % 100"
   ]
  },
  {
   "cell_type": "code",
   "execution_count": 11,
   "id": "2bdccb71",
   "metadata": {},
   "outputs": [
    {
     "data": {
      "text/plain": [
       "25"
      ]
     },
     "execution_count": 11,
     "metadata": {},
     "output_type": "execute_result"
    }
   ],
   "source": [
    "get_hash('March 06')"
   ]
  },
  {
   "cell_type": "code",
   "execution_count": 99,
   "id": "e168e932",
   "metadata": {},
   "outputs": [],
   "source": [
    "class HashTable:\n",
    "    def __init__(self):\n",
    "        self.Max = 100\n",
    "        self.arr = [[] for i in range(self.Max)]\n",
    "        \n",
    "    def get_hash(self,key):\n",
    "        h = 0\n",
    "        for char in key:\n",
    "            h += ord(char)\n",
    "        return h% self.Max\n",
    "    \n",
    "    def __getitem__(self,key):\n",
    "        h = self.get_hash(key)\n",
    "        for element in self.arr[h]:\n",
    "            if element[0] == key:\n",
    "                return element[1]\n",
    "                \n",
    "    \n",
    "    def __setitem__(self, key, val):\n",
    "        h = self.get_hash(key)\n",
    "        found = False\n",
    "        for idx, element in enumerate(self.arr[h]):\n",
    "            if len(element)==2 and element[0]==key:\n",
    "                self.arr[h][idx] = (key,val)\n",
    "                found=True\n",
    "                break\n",
    "        if not found:\n",
    "            self.arr[h].append((key,val))\n",
    "    \n",
    "    def __delitem__(self,key):\n",
    "        h = self.get_hash(key)\n",
    "        for index, element in enumerate(self.arr[h]):\n",
    "            if element[0] == key:\n",
    "                del self.arr[h][index]"
   ]
  },
  {
   "cell_type": "code",
   "execution_count": 100,
   "id": "83a2039c",
   "metadata": {},
   "outputs": [],
   "source": [
    "t = HashTable()"
   ]
  },
  {
   "cell_type": "code",
   "execution_count": 101,
   "id": "5e6f2e2f",
   "metadata": {},
   "outputs": [],
   "source": [
    "t[\"march 6\"] = 120\n",
    "t[\"march 6\"] = 78\n",
    "t[\"march 8\"] = 67\n",
    "t[\"march 9\"] = 4\n",
    "t[\"march 17\"] = 459"
   ]
  },
  {
   "cell_type": "code",
   "execution_count": 102,
   "id": "bf76d8af",
   "metadata": {},
   "outputs": [
    {
     "data": {
      "text/plain": [
       "459"
      ]
     },
     "execution_count": 102,
     "metadata": {},
     "output_type": "execute_result"
    }
   ],
   "source": [
    "t['march 17']"
   ]
  },
  {
   "cell_type": "code",
   "execution_count": 103,
   "id": "2a1d706d",
   "metadata": {},
   "outputs": [],
   "source": [
    "del t['march 17']"
   ]
  },
  {
   "cell_type": "code",
   "execution_count": 104,
   "id": "d8365a36",
   "metadata": {},
   "outputs": [],
   "source": [
    "t['march 17']"
   ]
  },
  {
   "cell_type": "code",
   "execution_count": null,
   "id": "a1ac7fda",
   "metadata": {},
   "outputs": [],
   "source": []
  }
 ],
 "metadata": {
  "kernelspec": {
   "display_name": "Python 3 (ipykernel)",
   "language": "python",
   "name": "python3"
  },
  "language_info": {
   "codemirror_mode": {
    "name": "ipython",
    "version": 3
   },
   "file_extension": ".py",
   "mimetype": "text/x-python",
   "name": "python",
   "nbconvert_exporter": "python",
   "pygments_lexer": "ipython3",
   "version": "3.11.3"
  }
 },
 "nbformat": 4,
 "nbformat_minor": 5
}
