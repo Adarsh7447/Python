{
 "cells": [
  {
   "cell_type": "code",
   "execution_count": 23,
   "id": "f669df15",
   "metadata": {},
   "outputs": [],
   "source": [
    "import pandas as pd\n",
    "fname = \"D:/Study PDF/Python/datasets/datasets/Players.csv\"\n",
    "from itertools import combinations"
   ]
  },
  {
   "cell_type": "markdown",
   "id": "8990d9a4",
   "metadata": {},
   "source": [
    "##### We have imported the pandas package and combinations package for our project"
   ]
  },
  {
   "cell_type": "markdown",
   "id": "ce207482",
   "metadata": {},
   "source": [
    "##### Lets read the csv file into the dataframe and retrieve the first 5 records from the dataframe"
   ]
  },
  {
   "cell_type": "code",
   "execution_count": 24,
   "id": "5b066042",
   "metadata": {},
   "outputs": [
    {
     "data": {
      "text/html": [
       "<div>\n",
       "<style scoped>\n",
       "    .dataframe tbody tr th:only-of-type {\n",
       "        vertical-align: middle;\n",
       "    }\n",
       "\n",
       "    .dataframe tbody tr th {\n",
       "        vertical-align: top;\n",
       "    }\n",
       "\n",
       "    .dataframe thead th {\n",
       "        text-align: right;\n",
       "    }\n",
       "</style>\n",
       "<table border=\"1\" class=\"dataframe\">\n",
       "  <thead>\n",
       "    <tr style=\"text-align: right;\">\n",
       "      <th></th>\n",
       "      <th>Player_Name</th>\n",
       "      <th>DOB</th>\n",
       "      <th>Batting_Hand</th>\n",
       "      <th>Bowling_Skill</th>\n",
       "      <th>Country</th>\n",
       "    </tr>\n",
       "  </thead>\n",
       "  <tbody>\n",
       "    <tr>\n",
       "      <th>0</th>\n",
       "      <td>A Ashish Reddy</td>\n",
       "      <td>24-Feb-91</td>\n",
       "      <td>Right_Hand</td>\n",
       "      <td>Right-arm medium</td>\n",
       "      <td>India</td>\n",
       "    </tr>\n",
       "    <tr>\n",
       "      <th>1</th>\n",
       "      <td>A Chandila</td>\n",
       "      <td>05-Dec-83</td>\n",
       "      <td>Right_Hand</td>\n",
       "      <td>Right-arm offbreak</td>\n",
       "      <td>India</td>\n",
       "    </tr>\n",
       "    <tr>\n",
       "      <th>2</th>\n",
       "      <td>A Chopra</td>\n",
       "      <td>19-Sep-77</td>\n",
       "      <td>Right_Hand</td>\n",
       "      <td>Right-arm offbreak</td>\n",
       "      <td>India</td>\n",
       "    </tr>\n",
       "    <tr>\n",
       "      <th>3</th>\n",
       "      <td>A Choudhary</td>\n",
       "      <td>NaN</td>\n",
       "      <td>Right_hand</td>\n",
       "      <td>Left-arm fast-medium</td>\n",
       "      <td>NaN</td>\n",
       "    </tr>\n",
       "    <tr>\n",
       "      <th>4</th>\n",
       "      <td>A Dananjaya</td>\n",
       "      <td>NaN</td>\n",
       "      <td>Right_Hand</td>\n",
       "      <td>Right-arm offbreak</td>\n",
       "      <td>NaN</td>\n",
       "    </tr>\n",
       "  </tbody>\n",
       "</table>\n",
       "</div>"
      ],
      "text/plain": [
       "      Player_Name        DOB Batting_Hand         Bowling_Skill Country\n",
       "0  A Ashish Reddy  24-Feb-91   Right_Hand      Right-arm medium   India\n",
       "1      A Chandila  05-Dec-83   Right_Hand    Right-arm offbreak   India\n",
       "2        A Chopra  19-Sep-77   Right_Hand    Right-arm offbreak   India\n",
       "3     A Choudhary        NaN   Right_hand  Left-arm fast-medium     NaN\n",
       "4     A Dananjaya        NaN   Right_Hand    Right-arm offbreak     NaN"
      ]
     },
     "execution_count": 24,
     "metadata": {},
     "output_type": "execute_result"
    }
   ],
   "source": [
    "df = pd.read_csv(fname)\n",
    "df.head()"
   ]
  },
  {
   "cell_type": "markdown",
   "id": "55ce1734",
   "metadata": {},
   "source": [
    "##### Lets find out the null values column wise"
   ]
  },
  {
   "cell_type": "code",
   "execution_count": 25,
   "id": "fb67aff6",
   "metadata": {},
   "outputs": [
    {
     "data": {
      "text/plain": [
       "DOB              95\n",
       "Country          95\n",
       "Bowling_Skill    64\n",
       "Batting_Hand      3\n",
       "dtype: int64"
      ]
     },
     "execution_count": 25,
     "metadata": {},
     "output_type": "execute_result"
    }
   ],
   "source": [
    "df1 = df.isnull().sum()\n",
    "df1[df1 > 0].sort_values(ascending = False)"
   ]
  },
  {
   "cell_type": "markdown",
   "id": "5305a940",
   "metadata": {},
   "source": [
    "##### Here we calculated the total number of the players country wise"
   ]
  },
  {
   "cell_type": "code",
   "execution_count": 35,
   "id": "912fc235",
   "metadata": {},
   "outputs": [
    {
     "data": {
      "text/plain": [
       "India           264\n",
       "Australia        72\n",
       "South Africa     39\n",
       "New Zealand      22\n",
       "Sri Lanka        20\n",
       "West Indies      19\n",
       "England          14\n",
       "Pakistan         13\n",
       "Bangladesh        5\n",
       "Zimbabwea         2\n",
       "Netherlands       1\n",
       "Name: Country, dtype: int64"
      ]
     },
     "execution_count": 35,
     "metadata": {},
     "output_type": "execute_result"
    }
   ],
   "source": [
    "df['Country'].value_counts()"
   ]
  },
  {
   "cell_type": "markdown",
   "id": "205e7e53",
   "metadata": {},
   "source": [
    "##### Lets create the dataframe for indian players"
   ]
  },
  {
   "cell_type": "code",
   "execution_count": 32,
   "id": "2d7df361",
   "metadata": {},
   "outputs": [],
   "source": [
    "team_india = df.loc[df['Country'] == 'India']"
   ]
  },
  {
   "cell_type": "code",
   "execution_count": 34,
   "id": "31f88247",
   "metadata": {},
   "outputs": [
    {
     "data": {
      "text/html": [
       "<div>\n",
       "<style scoped>\n",
       "    .dataframe tbody tr th:only-of-type {\n",
       "        vertical-align: middle;\n",
       "    }\n",
       "\n",
       "    .dataframe tbody tr th {\n",
       "        vertical-align: top;\n",
       "    }\n",
       "\n",
       "    .dataframe thead th {\n",
       "        text-align: right;\n",
       "    }\n",
       "</style>\n",
       "<table border=\"1\" class=\"dataframe\">\n",
       "  <thead>\n",
       "    <tr style=\"text-align: right;\">\n",
       "      <th></th>\n",
       "      <th>Player_Name</th>\n",
       "      <th>DOB</th>\n",
       "      <th>Batting_Hand</th>\n",
       "      <th>Bowling_Skill</th>\n",
       "      <th>Country</th>\n",
       "    </tr>\n",
       "  </thead>\n",
       "  <tbody>\n",
       "    <tr>\n",
       "      <th>0</th>\n",
       "      <td>A Ashish Reddy</td>\n",
       "      <td>24-Feb-91</td>\n",
       "      <td>Right_Hand</td>\n",
       "      <td>Right-arm medium</td>\n",
       "      <td>India</td>\n",
       "    </tr>\n",
       "    <tr>\n",
       "      <th>1</th>\n",
       "      <td>A Chandila</td>\n",
       "      <td>05-Dec-83</td>\n",
       "      <td>Right_Hand</td>\n",
       "      <td>Right-arm offbreak</td>\n",
       "      <td>India</td>\n",
       "    </tr>\n",
       "    <tr>\n",
       "      <th>2</th>\n",
       "      <td>A Chopra</td>\n",
       "      <td>19-Sep-77</td>\n",
       "      <td>Right_Hand</td>\n",
       "      <td>Right-arm offbreak</td>\n",
       "      <td>India</td>\n",
       "    </tr>\n",
       "    <tr>\n",
       "      <th>8</th>\n",
       "      <td>A Kumble</td>\n",
       "      <td>17-Oct-70</td>\n",
       "      <td>Right_Hand</td>\n",
       "      <td>Legbreak googly</td>\n",
       "      <td>India</td>\n",
       "    </tr>\n",
       "    <tr>\n",
       "      <th>9</th>\n",
       "      <td>A Mishra</td>\n",
       "      <td>24-Nov-82</td>\n",
       "      <td>Right_Hand</td>\n",
       "      <td>Legbreak</td>\n",
       "      <td>India</td>\n",
       "    </tr>\n",
       "    <tr>\n",
       "      <th>...</th>\n",
       "      <td>...</td>\n",
       "      <td>...</td>\n",
       "      <td>...</td>\n",
       "      <td>...</td>\n",
       "      <td>...</td>\n",
       "    </tr>\n",
       "    <tr>\n",
       "      <th>560</th>\n",
       "      <td>YK Pathan</td>\n",
       "      <td>17-Nov-82</td>\n",
       "      <td>Right_Hand</td>\n",
       "      <td>Right-arm offbreak</td>\n",
       "      <td>India</td>\n",
       "    </tr>\n",
       "    <tr>\n",
       "      <th>562</th>\n",
       "      <td>YS Chahal</td>\n",
       "      <td>23-Jul-90</td>\n",
       "      <td>Right_Hand</td>\n",
       "      <td>Legbreak googly</td>\n",
       "      <td>India</td>\n",
       "    </tr>\n",
       "    <tr>\n",
       "      <th>563</th>\n",
       "      <td>Yuvraj Singh</td>\n",
       "      <td>12-Dec-81</td>\n",
       "      <td>Left_Hand</td>\n",
       "      <td>Slow left-arm orthodox</td>\n",
       "      <td>India</td>\n",
       "    </tr>\n",
       "    <tr>\n",
       "      <th>564</th>\n",
       "      <td>YV Takawale</td>\n",
       "      <td>05-Nov-84</td>\n",
       "      <td>Right_Hand</td>\n",
       "      <td>NaN</td>\n",
       "      <td>India</td>\n",
       "    </tr>\n",
       "    <tr>\n",
       "      <th>565</th>\n",
       "      <td>Z Khan</td>\n",
       "      <td>07-Oct-78</td>\n",
       "      <td>Right_Hand</td>\n",
       "      <td>Left-arm fast-medium</td>\n",
       "      <td>India</td>\n",
       "    </tr>\n",
       "  </tbody>\n",
       "</table>\n",
       "<p>264 rows × 5 columns</p>\n",
       "</div>"
      ],
      "text/plain": [
       "        Player_Name        DOB Batting_Hand           Bowling_Skill Country\n",
       "0    A Ashish Reddy  24-Feb-91   Right_Hand        Right-arm medium   India\n",
       "1        A Chandila  05-Dec-83   Right_Hand      Right-arm offbreak   India\n",
       "2          A Chopra  19-Sep-77   Right_Hand      Right-arm offbreak   India\n",
       "8          A Kumble  17-Oct-70   Right_Hand         Legbreak googly   India\n",
       "9          A Mishra  24-Nov-82   Right_Hand                Legbreak   India\n",
       "..              ...        ...          ...                     ...     ...\n",
       "560       YK Pathan  17-Nov-82   Right_Hand      Right-arm offbreak   India\n",
       "562       YS Chahal  23-Jul-90   Right_Hand         Legbreak googly   India\n",
       "563    Yuvraj Singh  12-Dec-81    Left_Hand  Slow left-arm orthodox   India\n",
       "564     YV Takawale  05-Nov-84   Right_Hand                     NaN   India\n",
       "565          Z Khan  07-Oct-78   Right_Hand    Left-arm fast-medium   India\n",
       "\n",
       "[264 rows x 5 columns]"
      ]
     },
     "execution_count": 34,
     "metadata": {},
     "output_type": "execute_result"
    }
   ],
   "source": [
    "team_india"
   ]
  },
  {
   "cell_type": "markdown",
   "id": "078f43bb",
   "metadata": {},
   "source": [
    "##### Lets check for the null values for indian players"
   ]
  },
  {
   "cell_type": "code",
   "execution_count": 41,
   "id": "82c6561a",
   "metadata": {},
   "outputs": [
    {
     "data": {
      "text/plain": [
       "Bowling_Skill    31\n",
       "dtype: int64"
      ]
     },
     "execution_count": 41,
     "metadata": {},
     "output_type": "execute_result"
    }
   ],
   "source": [
    "n = team_india.isnull().sum()\n",
    "n[n > 0].sort_values(ascending = False)"
   ]
  },
  {
   "cell_type": "markdown",
   "id": "33e26657",
   "metadata": {},
   "source": [
    "##### Their 31 null values present in column blowing_skill but we dont need that column for our analysis so lets ignore it for now"
   ]
  },
  {
   "cell_type": "code",
   "execution_count": 49,
   "id": "540f7591",
   "metadata": {},
   "outputs": [],
   "source": [
    "player_df = pd.DataFrame(combinations(team_india['Player_Name'],2), columns = ['Player 1','Player 2'])\n",
    "DOB_df = pd.DataFrame(combinations(team_india['DOB'],2), columns = ['DOB-1','DOB-2'])"
   ]
  },
  {
   "cell_type": "code",
   "execution_count": 48,
   "id": "4cd10508",
   "metadata": {},
   "outputs": [],
   "source": [
    "team_india1 = pd.concat([player_df,DOB_df],axis = 1)"
   ]
  },
  {
   "cell_type": "code",
   "execution_count": 54,
   "id": "c3cf35d3",
   "metadata": {},
   "outputs": [
    {
     "data": {
      "text/html": [
       "<div>\n",
       "<style scoped>\n",
       "    .dataframe tbody tr th:only-of-type {\n",
       "        vertical-align: middle;\n",
       "    }\n",
       "\n",
       "    .dataframe tbody tr th {\n",
       "        vertical-align: top;\n",
       "    }\n",
       "\n",
       "    .dataframe thead th {\n",
       "        text-align: right;\n",
       "    }\n",
       "</style>\n",
       "<table border=\"1\" class=\"dataframe\">\n",
       "  <thead>\n",
       "    <tr style=\"text-align: right;\">\n",
       "      <th></th>\n",
       "      <th>Player 1</th>\n",
       "      <th>Player 2</th>\n",
       "      <th>DOB-1</th>\n",
       "      <th>DOB-2</th>\n",
       "    </tr>\n",
       "  </thead>\n",
       "  <tbody>\n",
       "    <tr>\n",
       "      <th>1811</th>\n",
       "      <td>A Mukund</td>\n",
       "      <td>Y Nagar</td>\n",
       "      <td>06-Jan-90</td>\n",
       "      <td>06-Jan-90</td>\n",
       "    </tr>\n",
       "    <tr>\n",
       "      <th>6250</th>\n",
       "      <td>AN Ahmed</td>\n",
       "      <td>V Kohli</td>\n",
       "      <td>05-Nov-88</td>\n",
       "      <td>05-Nov-88</td>\n",
       "    </tr>\n",
       "    <tr>\n",
       "      <th>29969</th>\n",
       "      <td>R Sharma</td>\n",
       "      <td>RG Sharma</td>\n",
       "      <td>30-Apr-87</td>\n",
       "      <td>30-Apr-87</td>\n",
       "    </tr>\n",
       "  </tbody>\n",
       "</table>\n",
       "</div>"
      ],
      "text/plain": [
       "       Player 1   Player 2      DOB-1      DOB-2\n",
       "1811   A Mukund    Y Nagar  06-Jan-90  06-Jan-90\n",
       "6250   AN Ahmed    V Kohli  05-Nov-88  05-Nov-88\n",
       "29969  R Sharma  RG Sharma  30-Apr-87  30-Apr-87"
      ]
     },
     "execution_count": 54,
     "metadata": {},
     "output_type": "execute_result"
    }
   ],
   "source": [
    "team_india1[team_india1['DOB-1'] == team_india1['DOB-2']]"
   ]
  },
  {
   "cell_type": "code",
   "execution_count": null,
   "id": "ed3f771f",
   "metadata": {},
   "outputs": [],
   "source": []
  }
 ],
 "metadata": {
  "kernelspec": {
   "display_name": "Python 3 (ipykernel)",
   "language": "python",
   "name": "python3"
  },
  "language_info": {
   "codemirror_mode": {
    "name": "ipython",
    "version": 3
   },
   "file_extension": ".py",
   "mimetype": "text/x-python",
   "name": "python",
   "nbconvert_exporter": "python",
   "pygments_lexer": "ipython3",
   "version": "3.11.3"
  }
 },
 "nbformat": 4,
 "nbformat_minor": 5
}
