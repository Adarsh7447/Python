{
 "cells": [
  {
   "cell_type": "code",
   "execution_count": 1,
   "id": "069795a5",
   "metadata": {},
   "outputs": [],
   "source": [
    "my_name = 'Adarsh'\n",
    "a = 1 \n",
    "b = 10"
   ]
  },
  {
   "cell_type": "code",
   "execution_count": 2,
   "id": "4e406556",
   "metadata": {},
   "outputs": [
    {
     "name": "stdout",
     "output_type": "stream",
     "text": [
      "Hello my name is Adarsh\n"
     ]
    }
   ],
   "source": [
    "print(\"Hello my name is {}\".format(my_name))"
   ]
  },
  {
   "cell_type": "code",
   "execution_count": 3,
   "id": "a3fd5adc",
   "metadata": {},
   "outputs": [
    {
     "data": {
      "text/plain": [
       "str"
      ]
     },
     "execution_count": 3,
     "metadata": {},
     "output_type": "execute_result"
    }
   ],
   "source": [
    "type(my_name)"
   ]
  },
  {
   "cell_type": "code",
   "execution_count": 5,
   "id": "5d02b427",
   "metadata": {},
   "outputs": [
    {
     "data": {
      "text/plain": [
       "int"
      ]
     },
     "execution_count": 5,
     "metadata": {},
     "output_type": "execute_result"
    }
   ],
   "source": [
    "type(a)"
   ]
  },
  {
   "cell_type": "code",
   "execution_count": 6,
   "id": "16764f1c",
   "metadata": {},
   "outputs": [
    {
     "data": {
      "text/plain": [
       "False"
      ]
     },
     "execution_count": 6,
     "metadata": {},
     "output_type": "execute_result"
    }
   ],
   "source": [
    "isinstance(my_name,int)"
   ]
  },
  {
   "cell_type": "code",
   "execution_count": 7,
   "id": "409f6a86",
   "metadata": {},
   "outputs": [
    {
     "data": {
      "text/plain": [
       "True"
      ]
     },
     "execution_count": 7,
     "metadata": {},
     "output_type": "execute_result"
    }
   ],
   "source": [
    "isinstance(my_name,object)"
   ]
  },
  {
   "cell_type": "code",
   "execution_count": 8,
   "id": "5e5ceb08",
   "metadata": {},
   "outputs": [],
   "source": [
    "a = True\n",
    "b = False"
   ]
  },
  {
   "cell_type": "code",
   "execution_count": 9,
   "id": "b082e69a",
   "metadata": {},
   "outputs": [
    {
     "data": {
      "text/plain": [
       "bool"
      ]
     },
     "execution_count": 9,
     "metadata": {},
     "output_type": "execute_result"
    }
   ],
   "source": [
    "type(a)"
   ]
  },
  {
   "cell_type": "code",
   "execution_count": 10,
   "id": "b61bac7b",
   "metadata": {},
   "outputs": [
    {
     "data": {
      "text/plain": [
       "False"
      ]
     },
     "execution_count": 10,
     "metadata": {},
     "output_type": "execute_result"
    }
   ],
   "source": [
    "a == b"
   ]
  },
  {
   "cell_type": "code",
   "execution_count": 11,
   "id": "68e33c24",
   "metadata": {},
   "outputs": [
    {
     "data": {
      "text/plain": [
       "True"
      ]
     },
     "execution_count": 11,
     "metadata": {},
     "output_type": "execute_result"
    }
   ],
   "source": [
    "a != b "
   ]
  },
  {
   "cell_type": "code",
   "execution_count": 12,
   "id": "776e6ff8",
   "metadata": {},
   "outputs": [
    {
     "data": {
      "text/plain": [
       "True"
      ]
     },
     "execution_count": 12,
     "metadata": {},
     "output_type": "execute_result"
    }
   ],
   "source": [
    "a == 1"
   ]
  },
  {
   "cell_type": "code",
   "execution_count": 13,
   "id": "f5d64d8f",
   "metadata": {},
   "outputs": [
    {
     "data": {
      "text/plain": [
       "True"
      ]
     },
     "execution_count": 13,
     "metadata": {},
     "output_type": "execute_result"
    }
   ],
   "source": [
    "1 < 2 "
   ]
  },
  {
   "cell_type": "code",
   "execution_count": 14,
   "id": "99d6e799",
   "metadata": {},
   "outputs": [
    {
     "data": {
      "text/plain": [
       "True"
      ]
     },
     "execution_count": 14,
     "metadata": {},
     "output_type": "execute_result"
    }
   ],
   "source": [
    "b == 0"
   ]
  },
  {
   "cell_type": "code",
   "execution_count": 15,
   "id": "955dd4f9",
   "metadata": {},
   "outputs": [
    {
     "data": {
      "text/plain": [
       "True"
      ]
     },
     "execution_count": 15,
     "metadata": {},
     "output_type": "execute_result"
    }
   ],
   "source": [
    "1 < 2y "
   ]
  },
  {
   "cell_type": "code",
   "execution_count": 16,
   "id": "a0b40034",
   "metadata": {},
   "outputs": [
    {
     "data": {
      "text/plain": [
       "True"
      ]
     },
     "execution_count": 16,
     "metadata": {},
     "output_type": "execute_result"
    }
   ],
   "source": [
    "1 <= 2 "
   ]
  },
  {
   "cell_type": "code",
   "execution_count": 17,
   "id": "df8baceb",
   "metadata": {},
   "outputs": [
    {
     "data": {
      "text/plain": [
       "True"
      ]
     },
     "execution_count": 17,
     "metadata": {},
     "output_type": "execute_result"
    }
   ],
   "source": [
    "1 < 2 < 3 "
   ]
  },
  {
   "cell_type": "code",
   "execution_count": 19,
   "id": "d3b40524",
   "metadata": {},
   "outputs": [],
   "source": [
    "x = 2\n",
    "y = 5.0\n",
    "z = 2 + 1j #complex\n",
    "z_alt = complex(2,1)"
   ]
  },
  {
   "cell_type": "code",
   "execution_count": 20,
   "id": "e9bbd2d6",
   "metadata": {},
   "outputs": [
    {
     "data": {
      "text/plain": [
       "int"
      ]
     },
     "execution_count": 20,
     "metadata": {},
     "output_type": "execute_result"
    }
   ],
   "source": [
    "type(x)"
   ]
  },
  {
   "cell_type": "code",
   "execution_count": 21,
   "id": "1205e82a",
   "metadata": {},
   "outputs": [
    {
     "data": {
      "text/plain": [
       "float"
      ]
     },
     "execution_count": 21,
     "metadata": {},
     "output_type": "execute_result"
    }
   ],
   "source": [
    "type(y)"
   ]
  },
  {
   "cell_type": "code",
   "execution_count": 22,
   "id": "d4fb4fa8",
   "metadata": {},
   "outputs": [
    {
     "data": {
      "text/plain": [
       "complex"
      ]
     },
     "execution_count": 22,
     "metadata": {},
     "output_type": "execute_result"
    }
   ],
   "source": [
    "type(z)"
   ]
  },
  {
   "cell_type": "code",
   "execution_count": 23,
   "id": "c28cdd1a",
   "metadata": {},
   "outputs": [
    {
     "data": {
      "text/plain": [
       "7.0"
      ]
     },
     "execution_count": 23,
     "metadata": {},
     "output_type": "execute_result"
    }
   ],
   "source": [
    "x + y"
   ]
  },
  {
   "cell_type": "code",
   "execution_count": 24,
   "id": "218d41a3",
   "metadata": {},
   "outputs": [
    {
     "data": {
      "text/plain": [
       "10.0"
      ]
     },
     "execution_count": 24,
     "metadata": {},
     "output_type": "execute_result"
    }
   ],
   "source": [
    "x * y"
   ]
  },
  {
   "cell_type": "code",
   "execution_count": 25,
   "id": "5004e169",
   "metadata": {},
   "outputs": [
    {
     "name": "stdout",
     "output_type": "stream",
     "text": [
      "Python version 3.11\n"
     ]
    }
   ],
   "source": [
    "py_version = \"3.11\"\n",
    "print(\"Python version {}\".format(py_version))"
   ]
  },
  {
   "cell_type": "code",
   "execution_count": 26,
   "id": "751782ff",
   "metadata": {},
   "outputs": [],
   "source": [
    "language = \"adarsh\""
   ]
  },
  {
   "cell_type": "code",
   "execution_count": 27,
   "id": "3e49b392",
   "metadata": {},
   "outputs": [
    {
     "data": {
      "text/plain": [
       "str"
      ]
     },
     "execution_count": 27,
     "metadata": {},
     "output_type": "execute_result"
    }
   ],
   "source": [
    "type(language)"
   ]
  },
  {
   "cell_type": "code",
   "execution_count": 28,
   "id": "385d8a9e",
   "metadata": {},
   "outputs": [
    {
     "data": {
      "text/plain": [
       "'adarsh'"
      ]
     },
     "execution_count": 28,
     "metadata": {},
     "output_type": "execute_result"
    }
   ],
   "source": [
    "language.lower()"
   ]
  },
  {
   "cell_type": "code",
   "execution_count": 29,
   "id": "eadd1457",
   "metadata": {},
   "outputs": [
    {
     "data": {
      "text/plain": [
       "'ADARSH'"
      ]
     },
     "execution_count": 29,
     "metadata": {},
     "output_type": "execute_result"
    }
   ],
   "source": [
    "language.upper()"
   ]
  },
  {
   "cell_type": "code",
   "execution_count": 30,
   "id": "55d99013",
   "metadata": {},
   "outputs": [
    {
     "data": {
      "text/plain": [
       "'adarhs'"
      ]
     },
     "execution_count": 30,
     "metadata": {},
     "output_type": "execute_result"
    }
   ],
   "source": [
    "language.replace('sh' , 'hs')"
   ]
  },
  {
   "cell_type": "code",
   "execution_count": 31,
   "id": "61b268d7",
   "metadata": {},
   "outputs": [
    {
     "data": {
      "text/plain": [
       "'adarsh'"
      ]
     },
     "execution_count": 31,
     "metadata": {},
     "output_type": "execute_result"
    }
   ],
   "source": [
    "language"
   ]
  },
  {
   "cell_type": "code",
   "execution_count": 32,
   "id": "529eff97",
   "metadata": {},
   "outputs": [],
   "source": [
    "my_list = ['red' , 'green', 'blue']\n",
    "my_tuple = ('adarsh','Germany', True)"
   ]
  },
  {
   "cell_type": "code",
   "execution_count": 33,
   "id": "d60341f7",
   "metadata": {},
   "outputs": [
    {
     "data": {
      "text/plain": [
       "True"
      ]
     },
     "execution_count": 33,
     "metadata": {},
     "output_type": "execute_result"
    }
   ],
   "source": [
    "'red' in my_list"
   ]
  },
  {
   "cell_type": "code",
   "execution_count": 34,
   "id": "6d9cff85",
   "metadata": {},
   "outputs": [
    {
     "data": {
      "text/plain": [
       "True"
      ]
     },
     "execution_count": 34,
     "metadata": {},
     "output_type": "execute_result"
    }
   ],
   "source": [
    "'adarsh' in my_tuple"
   ]
  },
  {
   "cell_type": "code",
   "execution_count": 35,
   "id": "73455a7d",
   "metadata": {},
   "outputs": [
    {
     "name": "stdout",
     "output_type": "stream",
     "text": [
      "red\n",
      "green\n",
      "blue\n"
     ]
    }
   ],
   "source": [
    "for item in my_list:\n",
    "    print(item)"
   ]
  },
  {
   "cell_type": "code",
   "execution_count": 37,
   "id": "c51a4773",
   "metadata": {},
   "outputs": [
    {
     "data": {
      "text/plain": [
       "{'id': 123, 'price': 19.2, 'description': 'Book', 'in_stock': True}"
      ]
     },
     "execution_count": 37,
     "metadata": {},
     "output_type": "execute_result"
    }
   ],
   "source": [
    "item = {\n",
    "    'id': 123,\n",
    "    'price': 19.20,\n",
    "    'description': 'Book',\n",
    "    'in_stock': True \n",
    "}\n",
    "item"
   ]
  },
  {
   "cell_type": "code",
   "execution_count": 38,
   "id": "d665cdf8",
   "metadata": {},
   "outputs": [
    {
     "data": {
      "text/plain": [
       "dict"
      ]
     },
     "execution_count": 38,
     "metadata": {},
     "output_type": "execute_result"
    }
   ],
   "source": [
    "type(item)"
   ]
  },
  {
   "cell_type": "code",
   "execution_count": 39,
   "id": "2ca7ce71",
   "metadata": {},
   "outputs": [
    {
     "data": {
      "text/plain": [
       "19.2"
      ]
     },
     "execution_count": 39,
     "metadata": {},
     "output_type": "execute_result"
    }
   ],
   "source": [
    "item['price']"
   ]
  },
  {
   "cell_type": "code",
   "execution_count": 40,
   "id": "bba9e5c4",
   "metadata": {},
   "outputs": [
    {
     "data": {
      "text/plain": [
       "24.9"
      ]
     },
     "execution_count": 40,
     "metadata": {},
     "output_type": "execute_result"
    }
   ],
   "source": [
    "item['price'] = 24.9\n",
    "item['price']"
   ]
  },
  {
   "cell_type": "code",
   "execution_count": 41,
   "id": "ee42cf4c",
   "metadata": {},
   "outputs": [
    {
     "data": {
      "text/plain": [
       "{'id': 123, 'price': 24.9, 'description': 'Book'}"
      ]
     },
     "execution_count": 41,
     "metadata": {},
     "output_type": "execute_result"
    }
   ],
   "source": [
    "del item['in_stock']\n",
    "item"
   ]
  },
  {
   "cell_type": "code",
   "execution_count": 42,
   "id": "bd68ce60",
   "metadata": {},
   "outputs": [
    {
     "data": {
      "text/plain": [
       "{'id': 123, 'price': 24.9, 'description': 'Book', 'available': True}"
      ]
     },
     "execution_count": 42,
     "metadata": {},
     "output_type": "execute_result"
    }
   ],
   "source": [
    "item['available'] = True\n",
    "item"
   ]
  },
  {
   "cell_type": "code",
   "execution_count": 43,
   "id": "8b35cdcc",
   "metadata": {},
   "outputs": [
    {
     "ename": "KeyError",
     "evalue": "'does_not_exist'",
     "output_type": "error",
     "traceback": [
      "\u001b[1;31m---------------------------------------------------------------------------\u001b[0m",
      "\u001b[1;31mKeyError\u001b[0m                                  Traceback (most recent call last)",
      "Cell \u001b[1;32mIn[43], line 1\u001b[0m\n\u001b[1;32m----> 1\u001b[0m item[\u001b[38;5;124m'\u001b[39m\u001b[38;5;124mdoes_not_exist\u001b[39m\u001b[38;5;124m'\u001b[39m]\n",
      "\u001b[1;31mKeyError\u001b[0m: 'does_not_exist'"
     ]
    }
   ],
   "source": [
    "item['does_not_exist']"
   ]
  },
  {
   "cell_type": "markdown",
   "id": "94e9ea21",
   "metadata": {},
   "source": [
    "# CUSTOM FUNCTIONS"
   ]
  },
  {
   "cell_type": "code",
   "execution_count": 44,
   "id": "a90c786b",
   "metadata": {},
   "outputs": [],
   "source": [
    "def add_them(a,b):\n",
    "    return a + b"
   ]
  },
  {
   "cell_type": "code",
   "execution_count": 46,
   "id": "10ec5ea9",
   "metadata": {},
   "outputs": [
    {
     "data": {
      "text/plain": [
       "122"
      ]
     },
     "execution_count": 46,
     "metadata": {},
     "output_type": "execute_result"
    }
   ],
   "source": [
    "add_them(10,112)"
   ]
  },
  {
   "cell_type": "code",
   "execution_count": 47,
   "id": "72c3e9a8",
   "metadata": {},
   "outputs": [
    {
     "data": {
      "text/plain": [
       "'foobar'"
      ]
     },
     "execution_count": 47,
     "metadata": {},
     "output_type": "execute_result"
    }
   ],
   "source": [
    "add_them('foo','bar')"
   ]
  },
  {
   "cell_type": "code",
   "execution_count": 48,
   "id": "fcbcd0b4",
   "metadata": {},
   "outputs": [
    {
     "ename": "TypeError",
     "evalue": "can only concatenate str (not \"int\") to str",
     "output_type": "error",
     "traceback": [
      "\u001b[1;31m---------------------------------------------------------------------------\u001b[0m",
      "\u001b[1;31mTypeError\u001b[0m                                 Traceback (most recent call last)",
      "Cell \u001b[1;32mIn[48], line 1\u001b[0m\n\u001b[1;32m----> 1\u001b[0m add_them(\u001b[38;5;124m'\u001b[39m\u001b[38;5;124mhello\u001b[39m\u001b[38;5;124m'\u001b[39m,\u001b[38;5;241m3\u001b[39m)\n",
      "Cell \u001b[1;32mIn[44], line 2\u001b[0m, in \u001b[0;36madd_them\u001b[1;34m(a, b)\u001b[0m\n\u001b[0;32m      1\u001b[0m \u001b[38;5;28;01mdef\u001b[39;00m \u001b[38;5;21madd_them\u001b[39m(a,b):\n\u001b[1;32m----> 2\u001b[0m     \u001b[38;5;28;01mreturn\u001b[39;00m a \u001b[38;5;241m+\u001b[39m b\n",
      "\u001b[1;31mTypeError\u001b[0m: can only concatenate str (not \"int\") to str"
     ]
    }
   ],
   "source": [
    "add_them('hello',3)"
   ]
  },
  {
   "cell_type": "markdown",
   "id": "504106cd",
   "metadata": {},
   "source": [
    "# Control flow\n",
    "#### Let's have a look at some control flow statements\n",
    "# if/else statements\n",
    "#### The if statement is used for conditional execution"
   ]
  },
  {
   "cell_type": "code",
   "execution_count": 53,
   "id": "aecdf587",
   "metadata": {},
   "outputs": [
    {
     "name": "stdout",
     "output_type": "stream",
     "text": [
      "Add them! 1213.2\n"
     ]
    }
   ],
   "source": [
    "a = 12.2\n",
    "b = 1201 \n",
    "if a > 0 and b > 0: \n",
    "    print(\"Add them! {}\".format(add_them(a,b)))\n",
    "elif a == 0:\n",
    "    print(\"A is zero\")\n",
    "else:\n",
    "    print(\"Nothing to see\")"
   ]
  },
  {
   "cell_type": "markdown",
   "id": "2ae9eef5",
   "metadata": {},
   "source": [
    "# While statements\n",
    "#### you can use while loop while condition is through"
   ]
  },
  {
   "cell_type": "code",
   "execution_count": 54,
   "id": "519ca012",
   "metadata": {},
   "outputs": [
    {
     "name": "stdout",
     "output_type": "stream",
     "text": [
      "5\n",
      "4\n",
      "3\n",
      "2\n",
      "1\n"
     ]
    }
   ],
   "source": [
    "x = 5\n",
    "while x > 0:\n",
    "    print(x)\n",
    "    x = x - 1"
   ]
  },
  {
   "cell_type": "code",
   "execution_count": 55,
   "id": "e8d19268",
   "metadata": {},
   "outputs": [
    {
     "name": "stdout",
     "output_type": "stream",
     "text": [
      "1\n",
      "2\n",
      "3\n"
     ]
    }
   ],
   "source": [
    "for x in [1,2,3]:\n",
    "    print(x)"
   ]
  },
  {
   "cell_type": "code",
   "execution_count": 56,
   "id": "d543a99b",
   "metadata": {},
   "outputs": [
    {
     "name": "stdout",
     "output_type": "stream",
     "text": [
      "1\n",
      "2\n",
      "3\n"
     ]
    }
   ],
   "source": [
    "for x in (1,2,3):\n",
    "    print(x)"
   ]
  },
  {
   "cell_type": "code",
   "execution_count": 57,
   "id": "e0f7b58a",
   "metadata": {},
   "outputs": [
    {
     "name": "stdout",
     "output_type": "stream",
     "text": [
      "A D A R S H "
     ]
    }
   ],
   "source": [
    "my_string = \"ADARSH\"\n",
    "for i in my_string:\n",
    "    print(i,end=\" \")"
   ]
  },
  {
   "cell_type": "markdown",
   "id": "3a5fec84",
   "metadata": {},
   "source": [
    "Given a list of all products,print out the name of all the products with a price higher than 10"
   ]
  },
  {
   "cell_type": "code",
   "execution_count": 62,
   "id": "0c4b11b7",
   "metadata": {},
   "outputs": [
    {
     "name": "stdout",
     "output_type": "stream",
     "text": [
      "{'name': 'banana', 'price': 11}\n",
      "{'name': 'banana', 'price': 11}\n"
     ]
    }
   ],
   "source": [
    "products = [\n",
    "    {'name' : 'orange' , 'price' : 20},\n",
    "    {'name' : 'apple' , 'price' : 8},\n",
    "    {'name' : 'banana' , 'price' : 11},    \n",
    "]\n",
    "for item in products:\n",
    "    if item['price']>10:\n",
    "        print(i)"
   ]
  },
  {
   "cell_type": "markdown",
   "id": "7184d2ad",
   "metadata": {},
   "source": [
    " ## Understanding Iterables: Sequence and Generators\n",
    " ###### Iterables anything you can iterate on\n",
    " ###### for example:\n",
    " ###### 1.sequence(tuples,lists)\n",
    " ###### 2.mappings(dictionaries) \n",
    " ###### 3.generators\n",
    "\n",
    "### Sequences \n",
    "###### Sequences are iterables with random access"
   ]
  },
  {
   "cell_type": "code",
   "execution_count": 65,
   "id": "11515493",
   "metadata": {},
   "outputs": [],
   "source": [
    "record = ('Adarsh','India', True, 124) #tuple\n",
    "colors = ['blue','red','green'] #list"
   ]
  },
  {
   "cell_type": "code",
   "execution_count": 66,
   "id": "a3bb520a",
   "metadata": {},
   "outputs": [
    {
     "name": "stdout",
     "output_type": "stream",
     "text": [
      "Adarsh\n",
      "India\n",
      "True\n",
      "124\n"
     ]
    }
   ],
   "source": [
    "for item in record:\n",
    "    print(item)"
   ]
  },
  {
   "cell_type": "code",
   "execution_count": 68,
   "id": "d10bf44e",
   "metadata": {},
   "outputs": [
    {
     "name": "stdout",
     "output_type": "stream",
     "text": [
      "blue\n",
      "red\n",
      "green\n"
     ]
    }
   ],
   "source": [
    "for item in colors: \n",
    "    print(item)"
   ]
  },
  {
   "cell_type": "code",
   "execution_count": 69,
   "id": "84cbaae6",
   "metadata": {},
   "outputs": [
    {
     "data": {
      "text/plain": [
       "False"
      ]
     },
     "execution_count": 69,
     "metadata": {},
     "output_type": "execute_result"
    }
   ],
   "source": [
    "['blue','blue','red'] == ['red','blue','blue'] #order matters:\n"
   ]
  },
  {
   "cell_type": "code",
   "execution_count": 70,
   "id": "ca76977d",
   "metadata": {},
   "outputs": [
    {
     "data": {
      "text/plain": [
       "'Adarsh'"
      ]
     },
     "execution_count": 70,
     "metadata": {},
     "output_type": "execute_result"
    }
   ],
   "source": [
    "record[0] #python is zero-indexed"
   ]
  },
  {
   "cell_type": "code",
   "execution_count": 71,
   "id": "156b63d3",
   "metadata": {},
   "outputs": [
    {
     "data": {
      "text/plain": [
       "'green'"
      ]
     },
     "execution_count": 71,
     "metadata": {},
     "output_type": "execute_result"
    }
   ],
   "source": [
    "colors[2] #get the Nth item"
   ]
  },
  {
   "cell_type": "code",
   "execution_count": 72,
   "id": "8677bc58",
   "metadata": {},
   "outputs": [
    {
     "data": {
      "text/plain": [
       "'green'"
      ]
     },
     "execution_count": 72,
     "metadata": {},
     "output_type": "execute_result"
    }
   ],
   "source": [
    "colors[-1] #get the last item"
   ]
  },
  {
   "cell_type": "markdown",
   "id": "d1489865",
   "metadata": {},
   "source": [
    "## Mutable vs immutable data\n",
    "#####  tuples are immutable once created they cannot be modified\n",
    "##### list are mutable"
   ]
  },
  {
   "cell_type": "raw",
   "id": "a2fd9a20",
   "metadata": {},
   "source": [
    "record[0] = 'Addy' #tuples are immutable"
   ]
  },
  {
   "cell_type": "code",
   "execution_count": 80,
   "id": "dc470acd",
   "metadata": {},
   "outputs": [
    {
     "data": {
      "text/plain": [
       "('Adarsh', 'India', True, 124)"
      ]
     },
     "execution_count": 80,
     "metadata": {},
     "output_type": "execute_result"
    }
   ],
   "source": [
    "record"
   ]
  },
  {
   "cell_type": "raw",
   "id": "8ce7262f",
   "metadata": {},
   "source": [
    "colors[0] = 'yellow'"
   ]
  },
  {
   "cell_type": "code",
   "execution_count": 74,
   "id": "f28aceb9",
   "metadata": {},
   "outputs": [
    {
     "data": {
      "text/plain": [
       "['blue', 'red', 'green']"
      ]
     },
     "execution_count": 74,
     "metadata": {},
     "output_type": "execute_result"
    }
   ],
   "source": [
    "colors"
   ]
  },
  {
   "cell_type": "code",
   "execution_count": 75,
   "id": "371bb597",
   "metadata": {},
   "outputs": [],
   "source": [
    "colors.append('orange')"
   ]
  },
  {
   "cell_type": "code",
   "execution_count": 76,
   "id": "5e0dba28",
   "metadata": {},
   "outputs": [
    {
     "data": {
      "text/plain": [
       "['blue', 'red', 'green', 'orange']"
      ]
     },
     "execution_count": 76,
     "metadata": {},
     "output_type": "execute_result"
    }
   ],
   "source": [
    "colors"
   ]
  },
  {
   "cell_type": "code",
   "execution_count": 77,
   "id": "f24a9590",
   "metadata": {},
   "outputs": [],
   "source": [
    "colors.extend(['black','white'])"
   ]
  },
  {
   "cell_type": "code",
   "execution_count": 78,
   "id": "4409fc01",
   "metadata": {},
   "outputs": [
    {
     "data": {
      "text/plain": [
       "['blue', 'red', 'green', 'orange', 'black', 'white']"
      ]
     },
     "execution_count": 78,
     "metadata": {},
     "output_type": "execute_result"
    }
   ],
   "source": [
    "colors"
   ]
  },
  {
   "cell_type": "code",
   "execution_count": 79,
   "id": "67f0b377",
   "metadata": {},
   "outputs": [
    {
     "data": {
      "text/plain": [
       "['blue',\n",
       " 'red',\n",
       " 'green',\n",
       " 'orange',\n",
       " 'black',\n",
       " 'white',\n",
       " 'p',\n",
       " 'u',\n",
       " 'r',\n",
       " 'p',\n",
       " 'l',\n",
       " 'e']"
      ]
     },
     "execution_count": 79,
     "metadata": {},
     "output_type": "execute_result"
    }
   ],
   "source": [
    "colors.extend('purple')\n",
    "colors"
   ]
  },
  {
   "cell_type": "markdown",
   "id": "48cdf92a",
   "metadata": {},
   "source": [
    "# Slicing lists"
   ]
  },
  {
   "cell_type": "code",
   "execution_count": 81,
   "id": "e31b6553",
   "metadata": {},
   "outputs": [],
   "source": [
    "colors = ['blue','red','green','black','white']"
   ]
  },
  {
   "cell_type": "code",
   "execution_count": 82,
   "id": "fa671fcb",
   "metadata": {},
   "outputs": [
    {
     "data": {
      "text/plain": [
       "['blue', 'red']"
      ]
     },
     "execution_count": 82,
     "metadata": {},
     "output_type": "execute_result"
    }
   ],
   "source": [
    "colors[0:2]"
   ]
  },
  {
   "cell_type": "code",
   "execution_count": 83,
   "id": "e9926f32",
   "metadata": {},
   "outputs": [
    {
     "data": {
      "text/plain": [
       "['black']"
      ]
     },
     "execution_count": 83,
     "metadata": {},
     "output_type": "execute_result"
    }
   ],
   "source": [
    "colors[3:4]"
   ]
  },
  {
   "cell_type": "code",
   "execution_count": 84,
   "id": "d1f99246",
   "metadata": {},
   "outputs": [
    {
     "data": {
      "text/plain": [
       "['blue', 'red', 'green']"
      ]
     },
     "execution_count": 84,
     "metadata": {},
     "output_type": "execute_result"
    }
   ],
   "source": [
    "colors[:3]"
   ]
  },
  {
   "cell_type": "code",
   "execution_count": 85,
   "id": "9eb17d77",
   "metadata": {},
   "outputs": [
    {
     "data": {
      "text/plain": [
       "['blue', 'red', 'green', 'black']"
      ]
     },
     "execution_count": 85,
     "metadata": {},
     "output_type": "execute_result"
    }
   ],
   "source": [
    "colors[:-1]"
   ]
  },
  {
   "cell_type": "markdown",
   "id": "ea2eeb2f",
   "metadata": {},
   "source": [
    "# Generators\n",
    "Generators are a convenient way to built iterators.\n",
    "Important to remember:\n",
    "1. Lazyness: values are generated on-demand\n",
    "2. Lazyness: Values are not in memory\n",
    "3. You can iterate only once\n",
    "4. You cannot access randomly"
   ]
  },
  {
   "cell_type": "code",
   "execution_count": 92,
   "id": "2b680075",
   "metadata": {},
   "outputs": [],
   "source": [
    "# This equivalent of the built-in range() in python e\n",
    "def my_range(n):\n",
    "    num = 0\n",
    "    while num < n:\n",
    "        yield num\n",
    "        num += 1"
   ]
  },
  {
   "cell_type": "code",
   "execution_count": null,
   "id": "c7dde1d6",
   "metadata": {},
   "outputs": [],
   "source": []
  },
  {
   "cell_type": "code",
   "execution_count": 93,
   "id": "625fe8b1",
   "metadata": {},
   "outputs": [
    {
     "data": {
      "text/plain": [
       "<generator object my_range at 0x00000208BEB90790>"
      ]
     },
     "execution_count": 93,
     "metadata": {},
     "output_type": "execute_result"
    }
   ],
   "source": [
    "x = my_range(5)\n",
    "x"
   ]
  },
  {
   "cell_type": "code",
   "execution_count": 95,
   "id": "afbc96ba",
   "metadata": {},
   "outputs": [
    {
     "name": "stdout",
     "output_type": "stream",
     "text": [
      "1 2 3 4 "
     ]
    }
   ],
   "source": [
    "for item in x:\n",
    "    print(item,end=\" \")"
   ]
  },
  {
   "cell_type": "code",
   "execution_count": 96,
   "id": "50702591",
   "metadata": {},
   "outputs": [],
   "source": [
    "for item in x:\n",
    "    print(item)"
   ]
  },
  {
   "cell_type": "code",
   "execution_count": 97,
   "id": "e2e4aa31",
   "metadata": {},
   "outputs": [],
   "source": [
    "import sys"
   ]
  },
  {
   "cell_type": "code",
   "execution_count": 98,
   "id": "4a2baf14",
   "metadata": {},
   "outputs": [
    {
     "data": {
      "text/plain": [
       "200"
      ]
     },
     "execution_count": 98,
     "metadata": {},
     "output_type": "execute_result"
    }
   ],
   "source": [
    "sys.getsizeof(my_range(5))"
   ]
  },
  {
   "cell_type": "code",
   "execution_count": 99,
   "id": "0c46fc21",
   "metadata": {},
   "outputs": [
    {
     "data": {
      "text/plain": [
       "120"
      ]
     },
     "execution_count": 99,
     "metadata": {},
     "output_type": "execute_result"
    }
   ],
   "source": [
    "sys.getsizeof(list(my_range(5)))"
   ]
  },
  {
   "cell_type": "code",
   "execution_count": 100,
   "id": "059fbe07",
   "metadata": {},
   "outputs": [
    {
     "data": {
      "text/plain": [
       "200"
      ]
     },
     "execution_count": 100,
     "metadata": {},
     "output_type": "execute_result"
    }
   ],
   "source": [
    "sys.getsizeof(my_range(1000))"
   ]
  },
  {
   "cell_type": "code",
   "execution_count": 101,
   "id": "8bcc4406",
   "metadata": {},
   "outputs": [
    {
     "data": {
      "text/plain": [
       "8856"
      ]
     },
     "execution_count": 101,
     "metadata": {},
     "output_type": "execute_result"
    }
   ],
   "source": [
    "sys.getsizeof(list(my_range(1000)))"
   ]
  },
  {
   "cell_type": "markdown",
   "id": "63023485",
   "metadata": {},
   "source": [
    "# List comprehensions and Functional Programming Concepts\n",
    "1. List comprehension \n",
    "2. More on generators\n",
    "3. map()/reduce()/filte()\n",
    "\n",
    "## List comprehensions\n",
    "A comprehensions is a construct that allows sequences to be built from other sequences"
   ]
  },
  {
   "cell_type": "code",
   "execution_count": 104,
   "id": "fe1fc6e8",
   "metadata": {},
   "outputs": [],
   "source": [
    "squares = []\n",
    "for x in range(100):\n",
    "    squares.append(x*x)"
   ]
  },
  {
   "cell_type": "code",
   "execution_count": 105,
   "id": "6d74a79c",
   "metadata": {},
   "outputs": [
    {
     "data": {
      "text/plain": [
       "[0,\n",
       " 1,\n",
       " 4,\n",
       " 9,\n",
       " 16,\n",
       " 25,\n",
       " 36,\n",
       " 49,\n",
       " 64,\n",
       " 81,\n",
       " 100,\n",
       " 121,\n",
       " 144,\n",
       " 169,\n",
       " 196,\n",
       " 225,\n",
       " 256,\n",
       " 289,\n",
       " 324,\n",
       " 361,\n",
       " 400,\n",
       " 441,\n",
       " 484,\n",
       " 529,\n",
       " 576,\n",
       " 625,\n",
       " 676,\n",
       " 729,\n",
       " 784,\n",
       " 841,\n",
       " 900,\n",
       " 961,\n",
       " 1024,\n",
       " 1089,\n",
       " 1156,\n",
       " 1225,\n",
       " 1296,\n",
       " 1369,\n",
       " 1444,\n",
       " 1521,\n",
       " 1600,\n",
       " 1681,\n",
       " 1764,\n",
       " 1849,\n",
       " 1936,\n",
       " 2025,\n",
       " 2116,\n",
       " 2209,\n",
       " 2304,\n",
       " 2401,\n",
       " 2500,\n",
       " 2601,\n",
       " 2704,\n",
       " 2809,\n",
       " 2916,\n",
       " 3025,\n",
       " 3136,\n",
       " 3249,\n",
       " 3364,\n",
       " 3481,\n",
       " 3600,\n",
       " 3721,\n",
       " 3844,\n",
       " 3969,\n",
       " 4096,\n",
       " 4225,\n",
       " 4356,\n",
       " 4489,\n",
       " 4624,\n",
       " 4761,\n",
       " 4900,\n",
       " 5041,\n",
       " 5184,\n",
       " 5329,\n",
       " 5476,\n",
       " 5625,\n",
       " 5776,\n",
       " 5929,\n",
       " 6084,\n",
       " 6241,\n",
       " 6400,\n",
       " 6561,\n",
       " 6724,\n",
       " 6889,\n",
       " 7056,\n",
       " 7225,\n",
       " 7396,\n",
       " 7569,\n",
       " 7744,\n",
       " 7921,\n",
       " 8100,\n",
       " 8281,\n",
       " 8464,\n",
       " 8649,\n",
       " 8836,\n",
       " 9025,\n",
       " 9216,\n",
       " 9409,\n",
       " 9604,\n",
       " 9801]"
      ]
     },
     "execution_count": 105,
     "metadata": {},
     "output_type": "execute_result"
    }
   ],
   "source": [
    "squares"
   ]
  },
  {
   "cell_type": "code",
   "execution_count": 106,
   "id": "232089a2",
   "metadata": {},
   "outputs": [],
   "source": [
    "squares = [x*x for x in range(100)]"
   ]
  },
  {
   "cell_type": "code",
   "execution_count": 107,
   "id": "2de6490d",
   "metadata": {},
   "outputs": [
    {
     "data": {
      "text/plain": [
       "[0,\n",
       " 1,\n",
       " 4,\n",
       " 9,\n",
       " 16,\n",
       " 25,\n",
       " 36,\n",
       " 49,\n",
       " 64,\n",
       " 81,\n",
       " 100,\n",
       " 121,\n",
       " 144,\n",
       " 169,\n",
       " 196,\n",
       " 225,\n",
       " 256,\n",
       " 289,\n",
       " 324,\n",
       " 361,\n",
       " 400,\n",
       " 441,\n",
       " 484,\n",
       " 529,\n",
       " 576,\n",
       " 625,\n",
       " 676,\n",
       " 729,\n",
       " 784,\n",
       " 841,\n",
       " 900,\n",
       " 961,\n",
       " 1024,\n",
       " 1089,\n",
       " 1156,\n",
       " 1225,\n",
       " 1296,\n",
       " 1369,\n",
       " 1444,\n",
       " 1521,\n",
       " 1600,\n",
       " 1681,\n",
       " 1764,\n",
       " 1849,\n",
       " 1936,\n",
       " 2025,\n",
       " 2116,\n",
       " 2209,\n",
       " 2304,\n",
       " 2401,\n",
       " 2500,\n",
       " 2601,\n",
       " 2704,\n",
       " 2809,\n",
       " 2916,\n",
       " 3025,\n",
       " 3136,\n",
       " 3249,\n",
       " 3364,\n",
       " 3481,\n",
       " 3600,\n",
       " 3721,\n",
       " 3844,\n",
       " 3969,\n",
       " 4096,\n",
       " 4225,\n",
       " 4356,\n",
       " 4489,\n",
       " 4624,\n",
       " 4761,\n",
       " 4900,\n",
       " 5041,\n",
       " 5184,\n",
       " 5329,\n",
       " 5476,\n",
       " 5625,\n",
       " 5776,\n",
       " 5929,\n",
       " 6084,\n",
       " 6241,\n",
       " 6400,\n",
       " 6561,\n",
       " 6724,\n",
       " 6889,\n",
       " 7056,\n",
       " 7225,\n",
       " 7396,\n",
       " 7569,\n",
       " 7744,\n",
       " 7921,\n",
       " 8100,\n",
       " 8281,\n",
       " 8464,\n",
       " 8649,\n",
       " 8836,\n",
       " 9025,\n",
       " 9216,\n",
       " 9409,\n",
       " 9604,\n",
       " 9801]"
      ]
     },
     "execution_count": 107,
     "metadata": {},
     "output_type": "execute_result"
    }
   ],
   "source": [
    "squares"
   ]
  },
  {
   "cell_type": "code",
   "execution_count": 108,
   "id": "2ec951cc",
   "metadata": {},
   "outputs": [
    {
     "data": {
      "text/plain": [
       "[(1, 2), (1, 3), (2, 1), (2, 3), (3, 1), (3, 2)]"
      ]
     },
     "execution_count": 108,
     "metadata": {},
     "output_type": "execute_result"
    }
   ],
   "source": [
    "combos = []\n",
    "for x in [1,2,3]:\n",
    "    for y in [1,2,3]:\n",
    "        if x != y:\n",
    "            combos.append( (x,y) )\n",
    "combos"
   ]
  },
  {
   "cell_type": "code",
   "execution_count": 109,
   "id": "3e587e65",
   "metadata": {},
   "outputs": [
    {
     "data": {
      "text/plain": [
       "[(1, 2), (1, 3), (2, 1), (2, 3), (3, 1), (3, 2)]"
      ]
     },
     "execution_count": 109,
     "metadata": {},
     "output_type": "execute_result"
    }
   ],
   "source": [
    "combos = [(x,y) for x in [1,2,3] for y in [1,2,3] if x != y]\n",
    "combos"
   ]
  },
  {
   "cell_type": "code",
   "execution_count": 110,
   "id": "7f466590",
   "metadata": {},
   "outputs": [
    {
     "data": {
      "text/plain": [
       "[(1, 2), (1, 3), (2, 1), (2, 3), (3, 1), (3, 2)]"
      ]
     },
     "execution_count": 110,
     "metadata": {},
     "output_type": "execute_result"
    }
   ],
   "source": [
    "combos = [(x,y) for x in [1,2,3]\n",
    "                for y in [1,2,3]\n",
    "                if x != y]\n",
    "combos"
   ]
  },
  {
   "cell_type": "markdown",
   "id": "ded86cad",
   "metadata": {},
   "source": [
    "# Dictionary comprehension"
   ]
  },
  {
   "cell_type": "code",
   "execution_count": 111,
   "id": "f2718fe2",
   "metadata": {},
   "outputs": [
    {
     "data": {
      "text/plain": [
       "['The', 'quick', 'brown', 'for', 'jumped', 'over', 'the', 'lazy', 'dog']"
      ]
     },
     "execution_count": 111,
     "metadata": {},
     "output_type": "execute_result"
    }
   ],
   "source": [
    "words = \"The quick brown for jumped over the lazy dog\".split()\n",
    "words"
   ]
  },
  {
   "cell_type": "code",
   "execution_count": 113,
   "id": "df1fc061",
   "metadata": {},
   "outputs": [
    {
     "data": {
      "text/plain": [
       "{'The': 3,\n",
       " 'quick': 5,\n",
       " 'brown': 5,\n",
       " 'for': 3,\n",
       " 'jumped': 6,\n",
       " 'over': 4,\n",
       " 'the': 3,\n",
       " 'lazy': 4,\n",
       " 'dog': 3}"
      ]
     },
     "execution_count": 113,
     "metadata": {},
     "output_type": "execute_result"
    }
   ],
   "source": [
    "word_len = {}\n",
    "for w in words:\n",
    "    word_len[w] = len(w)\n",
    "word_len"
   ]
  },
  {
   "cell_type": "code",
   "execution_count": 114,
   "id": "5f06cd56",
   "metadata": {},
   "outputs": [
    {
     "data": {
      "text/plain": [
       "{'The': 3,\n",
       " 'quick': 5,\n",
       " 'brown': 5,\n",
       " 'for': 3,\n",
       " 'jumped': 6,\n",
       " 'over': 4,\n",
       " 'the': 3,\n",
       " 'lazy': 4,\n",
       " 'dog': 3}"
      ]
     },
     "execution_count": 114,
     "metadata": {},
     "output_type": "execute_result"
    }
   ],
   "source": [
    "word_len = {w: len(w) for w in words}\n",
    "word_len"
   ]
  },
  {
   "cell_type": "markdown",
   "id": "380ed009",
   "metadata": {},
   "source": [
    "# Back to generators\n",
    "we can define a generator using the comprehension syntax"
   ]
  },
  {
   "cell_type": "code",
   "execution_count": 115,
   "id": "e430e8d1",
   "metadata": {},
   "outputs": [
    {
     "data": {
      "text/plain": [
       "<generator object <genexpr> at 0x00000208C0E624D0>"
      ]
     },
     "execution_count": 115,
     "metadata": {},
     "output_type": "execute_result"
    }
   ],
   "source": [
    "squares = (x*x for x in range(10))\n",
    "squares"
   ]
  },
  {
   "cell_type": "code",
   "execution_count": 116,
   "id": "82cccc87",
   "metadata": {},
   "outputs": [
    {
     "name": "stdout",
     "output_type": "stream",
     "text": [
      "0 1 4 9 16 25 36 49 64 81 "
     ]
    }
   ],
   "source": [
    "for item in squares:\n",
    "    print(item,end=\" \")"
   ]
  },
  {
   "cell_type": "markdown",
   "id": "4a2f47a6",
   "metadata": {},
   "source": [
    "# map,reduce and filter"
   ]
  },
  {
   "cell_type": "code",
   "execution_count": 117,
   "id": "bf9441ce",
   "metadata": {},
   "outputs": [
    {
     "data": {
      "text/plain": [
       "<map at 0x208c027d420>"
      ]
     },
     "execution_count": 117,
     "metadata": {},
     "output_type": "execute_result"
    }
   ],
   "source": [
    "# map() example\n",
    "def f(x):\n",
    "    return x*x\n",
    "\n",
    "numbers = range(10)\n",
    "\n",
    "#squares = (f(x) for x in numbers)\n",
    "squares = map(f, numbers)\n",
    "squares"
   ]
  },
  {
   "cell_type": "code",
   "execution_count": 118,
   "id": "87f7c10f",
   "metadata": {},
   "outputs": [
    {
     "data": {
      "text/plain": [
       "[0, 1, 4, 9, 16, 25, 36, 49, 64, 81]"
      ]
     },
     "execution_count": 118,
     "metadata": {},
     "output_type": "execute_result"
    }
   ],
   "source": [
    "list(squares)"
   ]
  },
  {
   "cell_type": "code",
   "execution_count": 119,
   "id": "f529224d",
   "metadata": {},
   "outputs": [
    {
     "data": {
      "text/plain": [
       "[3, 6, 9]"
      ]
     },
     "execution_count": 119,
     "metadata": {},
     "output_type": "execute_result"
    }
   ],
   "source": [
    "# map() over multiple sequences\n",
    "def add_them(a,b):\n",
    "    return a  + b\n",
    "seq_a = [2,4,6]\n",
    "seq_b = [1,2,3]\n",
    "\n",
    "results = map(add_them, seq_a,seq_b)\n",
    "list(results)"
   ]
  },
  {
   "cell_type": "code",
   "execution_count": 120,
   "id": "1ffcd02a",
   "metadata": {},
   "outputs": [
    {
     "data": {
      "text/plain": [
       "10"
      ]
     },
     "execution_count": 120,
     "metadata": {},
     "output_type": "execute_result"
    }
   ],
   "source": [
    "#reduce examples\n",
    "from functools import reduce\n",
    "seq = [1,2,3,4]\n",
    "results = reduce(add_them,seq)\n",
    "results"
   ]
  },
  {
   "cell_type": "code",
   "execution_count": 121,
   "id": "80c2b7af",
   "metadata": {},
   "outputs": [
    {
     "data": {
      "text/plain": [
       "[0, 2, 4, 6, 8]"
      ]
     },
     "execution_count": 121,
     "metadata": {},
     "output_type": "execute_result"
    }
   ],
   "source": [
    "# filter() example \n",
    "def is_even(x):\n",
    "    return x % 2 == 0\n",
    "seq = range(10)\n",
    "even_numbers = filter(is_even,seq)\n",
    "list(even_numbers)"
   ]
  },
  {
   "cell_type": "code",
   "execution_count": 122,
   "id": "1f6ad473",
   "metadata": {},
   "outputs": [
    {
     "data": {
      "text/plain": [
       "[0, 2, 4, 6, 8]"
      ]
     },
     "execution_count": 122,
     "metadata": {},
     "output_type": "execute_result"
    }
   ],
   "source": [
    "seq = range(10)\n",
    "even_numbers = ( x for x in seq if is_even(x))\n",
    "list(even_numbers)"
   ]
  },
  {
   "cell_type": "markdown",
   "id": "195f79f0",
   "metadata": {},
   "source": [
    "# Dates and times\n",
    "Dates and times can be tricky because there are many ways to represent them.\n",
    "## Datetime objects"
   ]
  },
  {
   "cell_type": "code",
   "execution_count": 123,
   "id": "afbb860f",
   "metadata": {},
   "outputs": [
    {
     "data": {
      "text/plain": [
       "False"
      ]
     },
     "execution_count": 123,
     "metadata": {},
     "output_type": "execute_result"
    }
   ],
   "source": [
    "\"2017-02-01\" == \"01/02/2017\""
   ]
  },
  {
   "cell_type": "code",
   "execution_count": 124,
   "id": "dcdbfae9",
   "metadata": {},
   "outputs": [],
   "source": [
    "from datetime import datetime\n",
    "some_day = datetime(2017, 2, 1, 16, 30)"
   ]
  },
  {
   "cell_type": "code",
   "execution_count": 125,
   "id": "4ad637c8",
   "metadata": {},
   "outputs": [
    {
     "data": {
      "text/plain": [
       "datetime.datetime(2017, 2, 1, 16, 30)"
      ]
     },
     "execution_count": 125,
     "metadata": {},
     "output_type": "execute_result"
    }
   ],
   "source": [
    "some_day"
   ]
  },
  {
   "cell_type": "code",
   "execution_count": 126,
   "id": "c6667844",
   "metadata": {},
   "outputs": [
    {
     "data": {
      "text/plain": [
       "'2017-02-01 16:30:00'"
      ]
     },
     "execution_count": 126,
     "metadata": {},
     "output_type": "execute_result"
    }
   ],
   "source": [
    "some_day.strftime(\"%Y-%m-%d %H:%M:%S\")"
   ]
  },
  {
   "cell_type": "code",
   "execution_count": 127,
   "id": "dd4e1fe7",
   "metadata": {},
   "outputs": [
    {
     "data": {
      "text/plain": [
       "True"
      ]
     },
     "execution_count": 127,
     "metadata": {},
     "output_type": "execute_result"
    }
   ],
   "source": [
    "d1 = datetime.strptime(\"2017-02-01\",\"%Y-%m-%d\")\n",
    "d2 = datetime.strptime(\"01/02/2017\", \"%d/%m/%Y\")\n",
    "d1 == d2"
   ]
  },
  {
   "cell_type": "markdown",
   "id": "d649d384",
   "metadata": {},
   "source": [
    "Recap\n",
    "\n",
    "1. strftime() for object-to-string\n",
    "2. strptime() for string-to-object"
   ]
  },
  {
   "cell_type": "code",
   "execution_count": 128,
   "id": "84a6a0e3",
   "metadata": {},
   "outputs": [
    {
     "data": {
      "text/plain": [
       "''"
      ]
     },
     "execution_count": 128,
     "metadata": {},
     "output_type": "execute_result"
    }
   ],
   "source": [
    "#Timezone name\n",
    "some_day.strftime(\"%Z\")"
   ]
  },
  {
   "cell_type": "code",
   "execution_count": 130,
   "id": "3b64df67",
   "metadata": {},
   "outputs": [
    {
     "data": {
      "text/plain": [
       "''"
      ]
     },
     "execution_count": 130,
     "metadata": {},
     "output_type": "execute_result"
    }
   ],
   "source": [
    "#UTC offset\n",
    "some_day.strftime(\"%z\")"
   ]
  },
  {
   "cell_type": "code",
   "execution_count": 131,
   "id": "5bf3a4fe",
   "metadata": {},
   "outputs": [
    {
     "data": {
      "text/plain": [
       "(2017, 2, 1)"
      ]
     },
     "execution_count": 131,
     "metadata": {},
     "output_type": "execute_result"
    }
   ],
   "source": [
    "some_day.year, some_day.month, some_day.day"
   ]
  },
  {
   "cell_type": "code",
   "execution_count": 132,
   "id": "4dfdeb00",
   "metadata": {},
   "outputs": [
    {
     "data": {
      "text/plain": [
       "(16, 30, 0, 0)"
      ]
     },
     "execution_count": 132,
     "metadata": {},
     "output_type": "execute_result"
    }
   ],
   "source": [
    "some_day.hour, some_day.minute, some_day.second, some_day.microsecond"
   ]
  },
  {
   "cell_type": "code",
   "execution_count": 133,
   "id": "dd1cfcd6",
   "metadata": {},
   "outputs": [],
   "source": [
    "some_day.tzinfo"
   ]
  },
  {
   "cell_type": "markdown",
   "id": "afd1a5f3",
   "metadata": {},
   "source": [
    "### More on timezones\n",
    "Navie datetime objects don't consider time zones\n",
    "Aware datetime objects do consider time zones"
   ]
  },
  {
   "cell_type": "code",
   "execution_count": 134,
   "id": "13d55254",
   "metadata": {},
   "outputs": [
    {
     "data": {
      "text/plain": [
       "True"
      ]
     },
     "execution_count": 134,
     "metadata": {},
     "output_type": "execute_result"
    }
   ],
   "source": [
    "from datetime import tzinfo, timedelta\n",
    "\n",
    "class UTCO(tzinfo):\n",
    "    def utcoffset(self, dt):\n",
    "        return timedelta(hours=0)\n",
    "    def dst(self, dt):\n",
    "        return timedelta(0)\n",
    "    def tzname(self,dt):\n",
    "        return \"Europe/London\"\n",
    "class GMT1(tzinfo):\n",
    "    def utcoffset(self,dt):\n",
    "        return timedelta(hours=1)\n",
    "    def dst(self, dt):\n",
    "        return timedelta(0)\n",
    "    def tzname(self,dt):\n",
    "        return \"Europe/Amsterdam\"\n",
    "\n",
    "some_day = datetime(2017, 2, 1,16,30,0, tzinfo=GMT1())\n",
    "another_day = datetime (2017, 2, 1, 15,30 ,0, tzinfo=UTCO())\n",
    "some_day == another_day"
   ]
  },
  {
   "cell_type": "code",
   "execution_count": 136,
   "id": "9f490046",
   "metadata": {},
   "outputs": [
    {
     "data": {
      "text/plain": [
       "'2017-02-01T16:30:00+01:00'"
      ]
     },
     "execution_count": 136,
     "metadata": {},
     "output_type": "execute_result"
    }
   ],
   "source": [
    "some_day.isoformat()"
   ]
  },
  {
   "cell_type": "markdown",
   "id": "9ee6b0fe",
   "metadata": {},
   "source": [
    "### Operations on dates\n",
    "timedelta objects represents durations of time\n",
    "This allow to perform arithemetic of dates"
   ]
  },
  {
   "cell_type": "code",
   "execution_count": 138,
   "id": "8123b045",
   "metadata": {},
   "outputs": [],
   "source": [
    "from datetime import timedelta\n",
    "new_day = some_day + timedelta(days = 1)"
   ]
  },
  {
   "cell_type": "code",
   "execution_count": 139,
   "id": "09f8e304",
   "metadata": {},
   "outputs": [
    {
     "data": {
      "text/plain": [
       "'2017-02-01'"
      ]
     },
     "execution_count": 139,
     "metadata": {},
     "output_type": "execute_result"
    }
   ],
   "source": [
    "some_day.strftime(\"%Y-%m-%d\")"
   ]
  },
  {
   "cell_type": "code",
   "execution_count": 140,
   "id": "3f1b7ea6",
   "metadata": {},
   "outputs": [
    {
     "data": {
      "text/plain": [
       "'2017-02-02'"
      ]
     },
     "execution_count": 140,
     "metadata": {},
     "output_type": "execute_result"
    }
   ],
   "source": [
    "new_day.strftime(\"%Y-%m-%d\")"
   ]
  },
  {
   "cell_type": "code",
   "execution_count": 142,
   "id": "1b622c98",
   "metadata": {},
   "outputs": [
    {
     "data": {
      "text/plain": [
       "True"
      ]
     },
     "execution_count": 142,
     "metadata": {},
     "output_type": "execute_result"
    }
   ],
   "source": [
    "some_day < new_day"
   ]
  },
  {
   "cell_type": "markdown",
   "id": "8bc893b4",
   "metadata": {},
   "source": [
    "### Simple time objects\n",
    "time.time() objects represent a time of the day,independent from any particular day"
   ]
  },
  {
   "cell_type": "code",
   "execution_count": 143,
   "id": "a2eaeba8",
   "metadata": {},
   "outputs": [
    {
     "data": {
      "text/plain": [
       "0.056409597396850586"
      ]
     },
     "execution_count": 143,
     "metadata": {},
     "output_type": "execute_result"
    }
   ],
   "source": [
    "from time import time\n",
    "t0 = time()\n",
    "for x in range(1000000):\n",
    "    a = x\n",
    "t1 = time()\n",
    "t1 - t0"
   ]
  },
  {
   "cell_type": "markdown",
   "id": "eee1d64d",
   "metadata": {},
   "source": [
    "# Accessing raw data\n",
    "In this video, we'll discuss some common file format and how we can access data from python"
   ]
  },
  {
   "cell_type": "markdown",
   "id": "aa83b803",
   "metadata": {},
   "source": [
    "### Opening and reading files"
   ]
  },
  {
   "cell_type": "code",
   "execution_count": 146,
   "id": "d635a779",
   "metadata": {},
   "outputs": [
    {
     "ename": "SyntaxError",
     "evalue": "invalid syntax (2683662159.py, line 1)",
     "output_type": "error",
     "traceback": [
      "\u001b[1;36m  Cell \u001b[1;32mIn[146], line 1\u001b[1;36m\u001b[0m\n\u001b[1;33m    cat some_file.txt\u001b[0m\n\u001b[1;37m        ^\u001b[0m\n\u001b[1;31mSyntaxError\u001b[0m\u001b[1;31m:\u001b[0m invalid syntax\n"
     ]
    }
   ],
   "source": [
    "cat some_file.txt"
   ]
  },
  {
   "cell_type": "code",
   "execution_count": 147,
   "id": "60dfd498",
   "metadata": {},
   "outputs": [
    {
     "name": "stdout",
     "output_type": "stream",
     "text": [
      "Some fiel \n",
      "this is a samlpe \n",
      "sdu and we na \n",
      "ads\n"
     ]
    }
   ],
   "source": [
    "file = open(\"some_file.txt\",\"r\")\n",
    "print(file.read())"
   ]
  },
  {
   "cell_type": "code",
   "execution_count": 149,
   "id": "2e742da5",
   "metadata": {},
   "outputs": [
    {
     "name": "stdout",
     "output_type": "stream",
     "text": [
      "Some fiel \n",
      "this is a samlpe \n",
      "sdu and we na \n",
      "ads\n"
     ]
    }
   ],
   "source": [
    "fname = 'some_file.txt'\n",
    "f = open(fname,'r')\n",
    "content = f.read()\n",
    "f.close()\n",
    "print(content)"
   ]
  },
  {
   "cell_type": "code",
   "execution_count": 150,
   "id": "b3189bd4",
   "metadata": {},
   "outputs": [
    {
     "name": "stdout",
     "output_type": "stream",
     "text": [
      "Some fiel \n",
      "this is a samlpe \n",
      "sdu and we na \n",
      "ads\n"
     ]
    }
   ],
   "source": [
    "fname = 'some_file.txt'\n",
    "with open(fname,'r') as f:\n",
    "    content  = f.read()\n",
    "print(content)"
   ]
  },
  {
   "cell_type": "code",
   "execution_count": 151,
   "id": "90b4187b",
   "metadata": {},
   "outputs": [
    {
     "name": "stdout",
     "output_type": "stream",
     "text": [
      "['Some fiel \\n', 'this is a samlpe \\n', 'sdu and we na \\n', 'ads']\n"
     ]
    }
   ],
   "source": [
    "fname = 'some_file.txt'\n",
    "with open(fname, 'r') as f:\n",
    "    content = f.readlines()\n",
    "print(content)"
   ]
  },
  {
   "cell_type": "code",
   "execution_count": 152,
   "id": "e5bbdd36",
   "metadata": {},
   "outputs": [
    {
     "name": "stdout",
     "output_type": "stream",
     "text": [
      "Some fiel \n",
      "\n",
      "this is a samlpe \n",
      "\n",
      "sdu and we na \n",
      "\n",
      "ads\n"
     ]
    }
   ],
   "source": [
    "fname = 'some_file.txt'\n",
    "with open(fname,'r') as f:\n",
    "    for line in f:\n",
    "        print(line)"
   ]
  },
  {
   "cell_type": "code",
   "execution_count": 153,
   "id": "1020c922",
   "metadata": {},
   "outputs": [
    {
     "name": "stdout",
     "output_type": "stream",
     "text": [
      "Line 0: Some fiel\n",
      "Line 1: this is a samlpe\n",
      "Line 2: sdu and we na\n",
      "Line 3: ads\n"
     ]
    }
   ],
   "source": [
    "fname = 'some_file.txt'\n",
    "with open(fname,'r') as f:\n",
    "    for i,line in enumerate(f):\n",
    "        print(\"Line {}: {}\".format(i,line.strip()))"
   ]
  },
  {
   "cell_type": "markdown",
   "id": "627c1a32",
   "metadata": {},
   "source": [
    "### csv files\n",
    "Comma Separated values\n",
    "This format is very common for import/export for spreadsheets and databases"
   ]
  },
  {
   "cell_type": "code",
   "execution_count": 154,
   "id": "e56028dc",
   "metadata": {},
   "outputs": [
    {
     "name": "stderr",
     "output_type": "stream",
     "text": [
      "UsageError: Line magic function `%cat` not found.\n"
     ]
    }
   ],
   "source": [
    "%cat empdata.csv"
   ]
  },
  {
   "cell_type": "code",
   "execution_count": 156,
   "id": "edb77faa",
   "metadata": {},
   "outputs": [
    {
     "name": "stdout",
     "output_type": "stream",
     "text": [
      "Headers = ['empid', 'ename', 'sal', 'doj']\n",
      "['1001', 'Ganesh Rao', '10000', '10-10-2000']\n",
      "['1002', 'Anil Kumar', '23000.5', '3-3-2002']\n",
      "['1003', 'Gaurav Gupta', '18000.33', '3-3-2002']\n",
      "['1004', 'Hema Chandra', '16500.5', '3-3-2002']\n",
      "['1005', 'Laxmi Prasanna', '12000.75', '10-8-2000']\n",
      "['1006', 'Anant Nag', '9999.99', '9-9-1999']\n"
     ]
    }
   ],
   "source": [
    "import csv\n",
    "\n",
    "fname = 'empdata.csv'\n",
    "with open(fname, 'r') as f:\n",
    "        data_reader = csv.reader(f, delimiter=',')\n",
    "        headers = next(data_reader)\n",
    "        print(\"Headers = {}\".format(headers))\n",
    "        for line in data_reader:\n",
    "            print(line)"
   ]
  },
  {
   "cell_type": "code",
   "execution_count": 157,
   "id": "2a4c061b",
   "metadata": {},
   "outputs": [
    {
     "name": "stdout",
     "output_type": "stream",
     "text": [
      "['empid', 'ename', 'sal', 'doj']\n",
      "['1001', 'Ganesh Rao', '10000', '10-10-2000']\n",
      "['1002', 'Anil Kumar', '23000.5', '3-3-2002']\n",
      "['1003', 'Gaurav Gupta', '18000.33', '3-3-2002']\n",
      "['1004', 'Hema Chandra', '16500.5', '3-3-2002']\n",
      "['1005', 'Laxmi Prasanna', '12000.75', '10-8-2000']\n",
      "['1006', 'Anant Nag', '9999.99', '9-9-1999']\n"
     ]
    }
   ],
   "source": [
    "fname = 'empdata.csv'\n",
    "with open(fname, 'r') as f:\n",
    "    data_reader = csv.reader(f, delimiter=',')\n",
    "    for line in data_reader:\n",
    "        print(line)"
   ]
  },
  {
   "cell_type": "code",
   "execution_count": 159,
   "id": "4d86390d",
   "metadata": {},
   "outputs": [
    {
     "data": {
      "text/plain": [
       "[{'empid': '1001', 'ename': 'Ganesh Rao', 'sal': '10000', 'doj': '10-10-2000'},\n",
       " {'empid': '1002', 'ename': 'Anil Kumar', 'sal': '23000.5', 'doj': '3-3-2002'},\n",
       " {'empid': '1003',\n",
       "  'ename': 'Gaurav Gupta',\n",
       "  'sal': '18000.33',\n",
       "  'doj': '3-3-2002'},\n",
       " {'empid': '1004',\n",
       "  'ename': 'Hema Chandra',\n",
       "  'sal': '16500.5',\n",
       "  'doj': '3-3-2002'},\n",
       " {'empid': '1005',\n",
       "  'ename': 'Laxmi Prasanna',\n",
       "  'sal': '12000.75',\n",
       "  'doj': '10-8-2000'},\n",
       " {'empid': '1006', 'ename': 'Anant Nag', 'sal': '9999.99', 'doj': '9-9-1999'}]"
      ]
     },
     "execution_count": 159,
     "metadata": {},
     "output_type": "execute_result"
    }
   ],
   "source": [
    "fname = 'empdata.csv'\n",
    "with open(fname,'r') as f:\n",
    "    data_reader = csv.reader(f , delimiter=',')\n",
    "    headers = next(data_reader)\n",
    "    data = []\n",
    "    for line in data_reader:\n",
    "        item = {headers[i]: value for i, value in enumerate(line)}\n",
    "        data.append(item)\n",
    "data"
   ]
  },
  {
   "cell_type": "code",
   "execution_count": 165,
   "id": "38197fbb",
   "metadata": {},
   "outputs": [
    {
     "data": {
      "text/plain": [
       "{'Product': 'Alice Mutton', 'Customer': 'ANTON', 'Qtr 2': '$702.00'}"
      ]
     },
     "execution_count": 165,
     "metadata": {},
     "output_type": "execute_result"
    }
   ],
   "source": [
    "import json\n",
    "fname = 'ProductJson.json'\n",
    "with open(fname,'r') as f:\n",
    "    content = f.read()\n",
    "    product = json.loads(content)\n",
    "product"
   ]
  },
  {
   "cell_type": "code",
   "execution_count": 166,
   "id": "caff56ef",
   "metadata": {},
   "outputs": [],
   "source": [
    "import json\n",
    "fname = 'ProductJson.json'\n",
    "with open(fname,'r') as f:\n",
    "    product_alt = json.load(f)"
   ]
  },
  {
   "cell_type": "code",
   "execution_count": 168,
   "id": "9a8aa7b8",
   "metadata": {},
   "outputs": [
    {
     "data": {
      "text/plain": [
       "True"
      ]
     },
     "execution_count": 168,
     "metadata": {},
     "output_type": "execute_result"
    }
   ],
   "source": [
    "product == product_alt"
   ]
  },
  {
   "cell_type": "code",
   "execution_count": 169,
   "id": "dd6b755e",
   "metadata": {},
   "outputs": [
    {
     "name": "stdout",
     "output_type": "stream",
     "text": [
      "{\n",
      "    \"Product\": \"Alice Mutton\",\n",
      "    \"Customer\": \"ANTON\",\n",
      "    \"Qtr 2\": \"$702.00\"\n",
      "}\n"
     ]
    }
   ],
   "source": [
    "print(json.dumps(product, indent=4))"
   ]
  },
  {
   "cell_type": "code",
   "execution_count": 174,
   "id": "e2640303",
   "metadata": {},
   "outputs": [
    {
     "name": "stdout",
     "output_type": "stream",
     "text": [
      "ANTON\n"
     ]
    }
   ],
   "source": [
    "import json\n",
    "\n",
    "fname = 'ProductJson.json'\n",
    "with open(fname,'r') as f:\n",
    "        product = json.loads(content)\n",
    "        print(product['Customer'])\n",
    "       \n",
    "    "
   ]
  },
  {
   "cell_type": "markdown",
   "id": "26bb5664",
   "metadata": {},
   "source": [
    "### Pickles: Python object serialization"
   ]
  },
  {
   "cell_type": "code",
   "execution_count": 175,
   "id": "6d919200",
   "metadata": {},
   "outputs": [
    {
     "data": {
      "text/plain": [
       "{'Product': 'Alice Mutton', 'Customer': 'ANTON', 'Qtr 2': '$702.00'}"
      ]
     },
     "execution_count": 175,
     "metadata": {},
     "output_type": "execute_result"
    }
   ],
   "source": [
    "with open('ProductJson.json', 'r') as f:\n",
    "    content = f.read()\n",
    "    data = json.loads(content)\n",
    "data"
   ]
  },
  {
   "cell_type": "code",
   "execution_count": 176,
   "id": "011ce02a",
   "metadata": {},
   "outputs": [
    {
     "data": {
      "text/plain": [
       "dict"
      ]
     },
     "execution_count": 176,
     "metadata": {},
     "output_type": "execute_result"
    }
   ],
   "source": [
    "type(data)"
   ]
  },
  {
   "cell_type": "code",
   "execution_count": 185,
   "id": "153d9803",
   "metadata": {},
   "outputs": [],
   "source": [
    "import pickle\n",
    "\n",
    "with open('data.pickle', 'wb') as f:\n",
    "     pickle.dump(data,f)\n"
   ]
  },
  {
   "cell_type": "code",
   "execution_count": 179,
   "id": "8e84371a",
   "metadata": {},
   "outputs": [
    {
     "name": "stderr",
     "output_type": "stream",
     "text": [
      "UsageError: Line magic function `%cat` not found.\n"
     ]
    }
   ],
   "source": [
    "%cat data.pickle"
   ]
  },
  {
   "cell_type": "code",
   "execution_count": 180,
   "id": "e63d098f",
   "metadata": {},
   "outputs": [
    {
     "data": {
      "text/plain": [
       "{'Product': 'Alice Mutton', 'Customer': 'ANTON', 'Qtr 2': '$702.00'}"
      ]
     },
     "execution_count": 180,
     "metadata": {},
     "output_type": "execute_result"
    }
   ],
   "source": [
    "import pickle\n",
    "\n",
    "with open('data.pickle','rb') as f:\n",
    "    data = pickle.load(f)\n",
    "data"
   ]
  },
  {
   "cell_type": "code",
   "execution_count": 181,
   "id": "1d559021",
   "metadata": {},
   "outputs": [
    {
     "data": {
      "text/plain": [
       "dict"
      ]
     },
     "execution_count": 181,
     "metadata": {},
     "output_type": "execute_result"
    }
   ],
   "source": [
    "type(data)"
   ]
  },
  {
   "cell_type": "markdown",
   "id": "ff54ed4d",
   "metadata": {},
   "source": [
    "### Creating Numpy Arrays\n",
    "Numpy is the core library computing in python\n",
    "This section is about the ndarray data structure"
   ]
  },
  {
   "cell_type": "code",
   "execution_count": 1,
   "id": "deeda9b2",
   "metadata": {},
   "outputs": [],
   "source": [
    "import numpy as np"
   ]
  },
  {
   "cell_type": "code",
   "execution_count": 2,
   "id": "c8669034",
   "metadata": {},
   "outputs": [
    {
     "data": {
      "text/plain": [
       "array([1, 2, 3, 4])"
      ]
     },
     "execution_count": 2,
     "metadata": {},
     "output_type": "execute_result"
    }
   ],
   "source": [
    "my_list = [1,2,3,4]\n",
    "x = np.array(my_list)\n",
    "x"
   ]
  },
  {
   "cell_type": "code",
   "execution_count": 3,
   "id": "7d547ad7",
   "metadata": {},
   "outputs": [
    {
     "data": {
      "text/plain": [
       "numpy.ndarray"
      ]
     },
     "execution_count": 3,
     "metadata": {},
     "output_type": "execute_result"
    }
   ],
   "source": [
    "type(x)"
   ]
  },
  {
   "cell_type": "code",
   "execution_count": 4,
   "id": "5673079c",
   "metadata": {},
   "outputs": [],
   "source": [
    "x = np.array([1,2,3,4])"
   ]
  },
  {
   "cell_type": "code",
   "execution_count": 5,
   "id": "74a15940",
   "metadata": {},
   "outputs": [
    {
     "data": {
      "text/plain": [
       "array([1, 2, 3, 4])"
      ]
     },
     "execution_count": 5,
     "metadata": {},
     "output_type": "execute_result"
    }
   ],
   "source": [
    "x"
   ]
  },
  {
   "cell_type": "markdown",
   "id": "019a4947",
   "metadata": {},
   "source": [
    "### Multidimensional arrays"
   ]
  },
  {
   "cell_type": "code",
   "execution_count": 6,
   "id": "bb2633bb",
   "metadata": {},
   "outputs": [
    {
     "data": {
      "text/plain": [
       "array([[1, 2, 3],\n",
       "       [4, 5, 6]])"
      ]
     },
     "execution_count": 6,
     "metadata": {},
     "output_type": "execute_result"
    }
   ],
   "source": [
    "x = np.array([[1,2,3],[4,5,6]])\n",
    "x"
   ]
  },
  {
   "cell_type": "code",
   "execution_count": 9,
   "id": "fa48fe99",
   "metadata": {},
   "outputs": [
    {
     "data": {
      "text/plain": [
       "6"
      ]
     },
     "execution_count": 9,
     "metadata": {},
     "output_type": "execute_result"
    }
   ],
   "source": [
    "x.size #gives the number of elements in mdarray"
   ]
  },
  {
   "cell_type": "code",
   "execution_count": 10,
   "id": "c42910c9",
   "metadata": {},
   "outputs": [
    {
     "data": {
      "text/plain": [
       "(2, 3)"
      ]
     },
     "execution_count": 10,
     "metadata": {},
     "output_type": "execute_result"
    }
   ],
   "source": [
    "x.shape # gives the rows and columns "
   ]
  },
  {
   "cell_type": "code",
   "execution_count": 13,
   "id": "151ddb48",
   "metadata": {},
   "outputs": [
    {
     "data": {
      "text/plain": [
       "2"
      ]
     },
     "execution_count": 13,
     "metadata": {},
     "output_type": "execute_result"
    }
   ],
   "source": [
    "x.ndim  #gives the dimension of the array"
   ]
  },
  {
   "cell_type": "code",
   "execution_count": 16,
   "id": "e08114f6",
   "metadata": {},
   "outputs": [
    {
     "data": {
      "text/plain": [
       "dtype('int32')"
      ]
     },
     "execution_count": 16,
     "metadata": {},
     "output_type": "execute_result"
    }
   ],
   "source": [
    "x.dtype #returns the data type of the array"
   ]
  },
  {
   "cell_type": "code",
   "execution_count": 17,
   "id": "9cab54b4",
   "metadata": {},
   "outputs": [],
   "source": [
    "x = np.array([[1,2,3],[4,5,6]], dtype=\"float\") # taking dtype as a flaot"
   ]
  },
  {
   "cell_type": "code",
   "execution_count": 18,
   "id": "d95315c0",
   "metadata": {},
   "outputs": [
    {
     "data": {
      "text/plain": [
       "dtype('float64')"
      ]
     },
     "execution_count": 18,
     "metadata": {},
     "output_type": "execute_result"
    }
   ],
   "source": [
    "x.dtype"
   ]
  },
  {
   "cell_type": "code",
   "execution_count": 19,
   "id": "e61cfe82",
   "metadata": {},
   "outputs": [
    {
     "data": {
      "text/plain": [
       "array([[1, 2, 3],\n",
       "       [4, 5, 6]])"
      ]
     },
     "execution_count": 19,
     "metadata": {},
     "output_type": "execute_result"
    }
   ],
   "source": [
    "y = x.astype('int') #converting float into int\n",
    "y"
   ]
  },
  {
   "cell_type": "code",
   "execution_count": 20,
   "id": "a3deab04",
   "metadata": {},
   "outputs": [
    {
     "data": {
      "text/plain": [
       "dtype('int32')"
      ]
     },
     "execution_count": 20,
     "metadata": {},
     "output_type": "execute_result"
    }
   ],
   "source": [
    "y.dtype"
   ]
  },
  {
   "cell_type": "markdown",
   "id": "7d6ed36e",
   "metadata": {},
   "source": [
    "### Built-in functions for creating array"
   ]
  },
  {
   "cell_type": "code",
   "execution_count": 21,
   "id": "2c3b9f88",
   "metadata": {},
   "outputs": [
    {
     "data": {
      "text/plain": [
       "array([[0., 0.],\n",
       "       [0., 0.],\n",
       "       [0., 0.]])"
      ]
     },
     "execution_count": 21,
     "metadata": {},
     "output_type": "execute_result"
    }
   ],
   "source": [
    "x = np.zeros((3,2)) #creates the array 3 rows and 2 columns by filling zeros\n",
    "x "
   ]
  },
  {
   "cell_type": "code",
   "execution_count": 22,
   "id": "3c442883",
   "metadata": {},
   "outputs": [
    {
     "data": {
      "text/plain": [
       "array([[1., 1., 1.],\n",
       "       [1., 1., 1.]])"
      ]
     },
     "execution_count": 22,
     "metadata": {},
     "output_type": "execute_result"
    }
   ],
   "source": [
    "x = np.ones((2,3))\n",
    "x"
   ]
  },
  {
   "cell_type": "code",
   "execution_count": 23,
   "id": "cc8fae9f",
   "metadata": {},
   "outputs": [
    {
     "data": {
      "text/plain": [
       "array([[1., 0., 0., 0.],\n",
       "       [0., 1., 0., 0.],\n",
       "       [0., 0., 1., 0.],\n",
       "       [0., 0., 0., 1.]])"
      ]
     },
     "execution_count": 23,
     "metadata": {},
     "output_type": "execute_result"
    }
   ],
   "source": [
    "x = np.eye(4) # main daigonal with 1 \n",
    "x"
   ]
  },
  {
   "cell_type": "code",
   "execution_count": 24,
   "id": "e210c6ad",
   "metadata": {},
   "outputs": [
    {
     "data": {
      "text/plain": [
       "array([[1, 0, 0],\n",
       "       [0, 2, 0],\n",
       "       [0, 0, 3]])"
      ]
     },
     "execution_count": 24,
     "metadata": {},
     "output_type": "execute_result"
    }
   ],
   "source": [
    "x = np.diag([1,2,3]) #we can pass values for main daigonal using this\n",
    "x"
   ]
  },
  {
   "cell_type": "code",
   "execution_count": 26,
   "id": "ecf0f794",
   "metadata": {},
   "outputs": [
    {
     "data": {
      "text/plain": [
       "array([0, 1, 2, 3, 4, 5, 6, 7, 8, 9])"
      ]
     },
     "execution_count": 26,
     "metadata": {},
     "output_type": "execute_result"
    }
   ],
   "source": [
    "x = np.arange(0,10) #single dimensional array for range\n",
    "x"
   ]
  },
  {
   "cell_type": "code",
   "execution_count": 27,
   "id": "2bcc3726",
   "metadata": {},
   "outputs": [
    {
     "data": {
      "text/plain": [
       "array([ 0,  2,  4,  6,  8, 10, 12, 14, 16, 18])"
      ]
     },
     "execution_count": 27,
     "metadata": {},
     "output_type": "execute_result"
    }
   ],
   "source": [
    "x = np.arange(0,20,2) #stepsize is two for this\n",
    "x"
   ]
  },
  {
   "cell_type": "code",
   "execution_count": 29,
   "id": "2e50fd7e",
   "metadata": {},
   "outputs": [
    {
     "data": {
      "text/plain": [
       "array([0. , 0.5, 1. , 1.5, 2. , 2.5, 3. ])"
      ]
     },
     "execution_count": 29,
     "metadata": {},
     "output_type": "execute_result"
    }
   ],
   "source": [
    "x = np.linspace(0,3,7) #linear space to cut it down in 7 parts"
   ]
  },
  {
   "cell_type": "code",
   "execution_count": 30,
   "id": "7fff1add",
   "metadata": {},
   "outputs": [
    {
     "data": {
      "text/plain": [
       "7"
      ]
     },
     "execution_count": 30,
     "metadata": {},
     "output_type": "execute_result"
    }
   ],
   "source": [
    "len(x)"
   ]
  },
  {
   "cell_type": "code",
   "execution_count": 31,
   "id": "2ea79026",
   "metadata": {},
   "outputs": [
    {
     "data": {
      "text/plain": [
       "[1, 2, 1, 2, 1, 2]"
      ]
     },
     "execution_count": 31,
     "metadata": {},
     "output_type": "execute_result"
    }
   ],
   "source": [
    "[1,2] * 3 #repetion of single dimensional array"
   ]
  },
  {
   "cell_type": "code",
   "execution_count": 32,
   "id": "b2d4e586",
   "metadata": {},
   "outputs": [
    {
     "data": {
      "text/plain": [
       "array([1, 2, 1, 2, 1, 2])"
      ]
     },
     "execution_count": 32,
     "metadata": {},
     "output_type": "execute_result"
    }
   ],
   "source": [
    "x = np.array([1,2] * 3)\n",
    "x"
   ]
  },
  {
   "cell_type": "code",
   "execution_count": 34,
   "id": "baa78972",
   "metadata": {},
   "outputs": [
    {
     "data": {
      "text/plain": [
       "array([1, 1, 1, 2, 2, 2])"
      ]
     },
     "execution_count": 34,
     "metadata": {},
     "output_type": "execute_result"
    }
   ],
   "source": [
    "x = np.repeat([1,2], 3)\n",
    "x"
   ]
  },
  {
   "cell_type": "markdown",
   "id": "d080aa31",
   "metadata": {},
   "source": [
    "### Stacking"
   ]
  },
  {
   "cell_type": "code",
   "execution_count": 35,
   "id": "bdd13420",
   "metadata": {},
   "outputs": [
    {
     "data": {
      "text/plain": [
       "array([[1., 1., 1.],\n",
       "       [1., 1., 1.]])"
      ]
     },
     "execution_count": 35,
     "metadata": {},
     "output_type": "execute_result"
    }
   ],
   "source": [
    "ones = np.ones((2,3))\n",
    "ones"
   ]
  },
  {
   "cell_type": "code",
   "execution_count": 36,
   "id": "c53789d2",
   "metadata": {},
   "outputs": [
    {
     "data": {
      "text/plain": [
       "array([[2., 2., 2.],\n",
       "       [2., 2., 2.]])"
      ]
     },
     "execution_count": 36,
     "metadata": {},
     "output_type": "execute_result"
    }
   ],
   "source": [
    "twos = ones * 2\n",
    "twos"
   ]
  },
  {
   "cell_type": "code",
   "execution_count": 37,
   "id": "1dc88352",
   "metadata": {},
   "outputs": [
    {
     "data": {
      "text/plain": [
       "array([[1., 1., 1.],\n",
       "       [1., 1., 1.],\n",
       "       [2., 2., 2.],\n",
       "       [2., 2., 2.]])"
      ]
     },
     "execution_count": 37,
     "metadata": {},
     "output_type": "execute_result"
    }
   ],
   "source": [
    "x = np.vstack([ones , twos]) #Vertical stacking\n",
    "x"
   ]
  },
  {
   "cell_type": "code",
   "execution_count": 38,
   "id": "c6534e90",
   "metadata": {},
   "outputs": [
    {
     "data": {
      "text/plain": [
       "array([[2., 2., 2., 1., 1., 1.],\n",
       "       [2., 2., 2., 1., 1., 1.]])"
      ]
     },
     "execution_count": 38,
     "metadata": {},
     "output_type": "execute_result"
    }
   ],
   "source": [
    "x = np.hstack([twos , ones]) #horizontal stacking\n",
    "x"
   ]
  },
  {
   "cell_type": "markdown",
   "id": "56250b82",
   "metadata": {},
   "source": [
    "### Basic Stats and Linear Algebra"
   ]
  },
  {
   "cell_type": "code",
   "execution_count": 48,
   "id": "bd21d1be",
   "metadata": {},
   "outputs": [],
   "source": [
    "x = np.array([1,2,3])\n",
    "y = np.array([6,4,2])"
   ]
  },
  {
   "cell_type": "markdown",
   "id": "774a2d7b",
   "metadata": {},
   "source": [
    "##### Basic arithmetic operations"
   ]
  },
  {
   "cell_type": "code",
   "execution_count": 49,
   "id": "717aea3c",
   "metadata": {},
   "outputs": [
    {
     "data": {
      "text/plain": [
       "array([7, 6, 5])"
      ]
     },
     "execution_count": 49,
     "metadata": {},
     "output_type": "execute_result"
    }
   ],
   "source": [
    "x + y"
   ]
  },
  {
   "cell_type": "code",
   "execution_count": 50,
   "id": "59924602",
   "metadata": {},
   "outputs": [
    {
     "data": {
      "text/plain": [
       "array([-5, -2,  1])"
      ]
     },
     "execution_count": 50,
     "metadata": {},
     "output_type": "execute_result"
    }
   ],
   "source": [
    "x - y"
   ]
  },
  {
   "cell_type": "code",
   "execution_count": 51,
   "id": "a99b55b4",
   "metadata": {},
   "outputs": [
    {
     "data": {
      "text/plain": [
       "array([6, 8, 6])"
      ]
     },
     "execution_count": 51,
     "metadata": {},
     "output_type": "execute_result"
    }
   ],
   "source": [
    "x * y "
   ]
  },
  {
   "cell_type": "code",
   "execution_count": 52,
   "id": "fd9d8154",
   "metadata": {},
   "outputs": [
    {
     "data": {
      "text/plain": [
       "array([0.16666667, 0.5       , 1.5       ])"
      ]
     },
     "execution_count": 52,
     "metadata": {},
     "output_type": "execute_result"
    }
   ],
   "source": [
    "x / y"
   ]
  },
  {
   "cell_type": "code",
   "execution_count": 53,
   "id": "436d89ba",
   "metadata": {},
   "outputs": [
    {
     "data": {
      "text/plain": [
       "array([2, 4, 6])"
      ]
     },
     "execution_count": 53,
     "metadata": {},
     "output_type": "execute_result"
    }
   ],
   "source": [
    "x * 2"
   ]
  },
  {
   "cell_type": "code",
   "execution_count": 54,
   "id": "34002255",
   "metadata": {},
   "outputs": [
    {
     "data": {
      "text/plain": [
       "array([7, 5, 3])"
      ]
     },
     "execution_count": 54,
     "metadata": {},
     "output_type": "execute_result"
    }
   ],
   "source": [
    "y + 1"
   ]
  },
  {
   "cell_type": "code",
   "execution_count": 55,
   "id": "7e38c92f",
   "metadata": {},
   "outputs": [
    {
     "name": "stderr",
     "output_type": "stream",
     "text": [
      "C:\\Users\\adars\\AppData\\Local\\Temp\\ipykernel_8476\\3814715862.py:1: RuntimeWarning: divide by zero encountered in divide\n",
      "  x / 0\n"
     ]
    },
    {
     "data": {
      "text/plain": [
       "array([inf, inf, inf])"
      ]
     },
     "execution_count": 55,
     "metadata": {},
     "output_type": "execute_result"
    }
   ],
   "source": [
    "x / 0"
   ]
  },
  {
   "cell_type": "code",
   "execution_count": 56,
   "id": "679f44ee",
   "metadata": {
    "scrolled": true
   },
   "outputs": [
    {
     "data": {
      "text/plain": [
       "6"
      ]
     },
     "execution_count": 56,
     "metadata": {},
     "output_type": "execute_result"
    }
   ],
   "source": [
    "x.sum()"
   ]
  },
  {
   "cell_type": "code",
   "execution_count": 57,
   "id": "1d73b076",
   "metadata": {},
   "outputs": [],
   "source": [
    "w = np.array([[1,2],[3,4]])\n",
    "z = np.array([[5,6],[7,8]])"
   ]
  },
  {
   "cell_type": "code",
   "execution_count": 58,
   "id": "a8d4a4ef",
   "metadata": {},
   "outputs": [
    {
     "data": {
      "text/plain": [
       "array([[5, 6],\n",
       "       [7, 8]])"
      ]
     },
     "execution_count": 58,
     "metadata": {},
     "output_type": "execute_result"
    }
   ],
   "source": [
    "z"
   ]
  },
  {
   "cell_type": "code",
   "execution_count": 59,
   "id": "28baaf29",
   "metadata": {},
   "outputs": [
    {
     "data": {
      "text/plain": [
       "26"
      ]
     },
     "execution_count": 59,
     "metadata": {},
     "output_type": "execute_result"
    }
   ],
   "source": [
    "z.sum()"
   ]
  },
  {
   "cell_type": "code",
   "execution_count": 60,
   "id": "3ab54bde",
   "metadata": {},
   "outputs": [
    {
     "data": {
      "text/plain": [
       "array([[ 6,  8],\n",
       "       [10, 12]])"
      ]
     },
     "execution_count": 60,
     "metadata": {},
     "output_type": "execute_result"
    }
   ],
   "source": [
    "w + z"
   ]
  },
  {
   "cell_type": "code",
   "execution_count": 61,
   "id": "ed578688",
   "metadata": {},
   "outputs": [
    {
     "data": {
      "text/plain": [
       "array([[2, 4],\n",
       "       [6, 8]])"
      ]
     },
     "execution_count": 61,
     "metadata": {},
     "output_type": "execute_result"
    }
   ],
   "source": [
    "w * 2"
   ]
  },
  {
   "cell_type": "markdown",
   "id": "9257b31e",
   "metadata": {},
   "source": [
    "### Basic stats"
   ]
  },
  {
   "cell_type": "code",
   "execution_count": 62,
   "id": "febb002e",
   "metadata": {},
   "outputs": [
    {
     "data": {
      "text/plain": [
       "array([1, 2, 3])"
      ]
     },
     "execution_count": 62,
     "metadata": {},
     "output_type": "execute_result"
    }
   ],
   "source": [
    "x"
   ]
  },
  {
   "cell_type": "code",
   "execution_count": 63,
   "id": "8499f87a",
   "metadata": {},
   "outputs": [
    {
     "data": {
      "text/plain": [
       "1"
      ]
     },
     "execution_count": 63,
     "metadata": {},
     "output_type": "execute_result"
    }
   ],
   "source": [
    "x.min()"
   ]
  },
  {
   "cell_type": "code",
   "execution_count": 64,
   "id": "af207826",
   "metadata": {},
   "outputs": [
    {
     "data": {
      "text/plain": [
       "3"
      ]
     },
     "execution_count": 64,
     "metadata": {},
     "output_type": "execute_result"
    }
   ],
   "source": [
    "x.max()"
   ]
  },
  {
   "cell_type": "code",
   "execution_count": 65,
   "id": "13606c82",
   "metadata": {},
   "outputs": [
    {
     "data": {
      "text/plain": [
       "2.0"
      ]
     },
     "execution_count": 65,
     "metadata": {},
     "output_type": "execute_result"
    }
   ],
   "source": [
    "x.mean()"
   ]
  },
  {
   "cell_type": "code",
   "execution_count": 66,
   "id": "5d9b10d9",
   "metadata": {},
   "outputs": [
    {
     "data": {
      "text/plain": [
       "0.6666666666666666"
      ]
     },
     "execution_count": 66,
     "metadata": {},
     "output_type": "execute_result"
    }
   ],
   "source": [
    "x.var()"
   ]
  },
  {
   "cell_type": "code",
   "execution_count": 67,
   "id": "e017ae96",
   "metadata": {},
   "outputs": [
    {
     "data": {
      "text/plain": [
       "0.816496580927726"
      ]
     },
     "execution_count": 67,
     "metadata": {},
     "output_type": "execute_result"
    }
   ],
   "source": [
    "x.std()"
   ]
  },
  {
   "cell_type": "code",
   "execution_count": 68,
   "id": "dbe20746",
   "metadata": {},
   "outputs": [
    {
     "data": {
      "text/plain": [
       "array([1, 2, 3])"
      ]
     },
     "execution_count": 68,
     "metadata": {},
     "output_type": "execute_result"
    }
   ],
   "source": [
    "x"
   ]
  },
  {
   "cell_type": "code",
   "execution_count": 69,
   "id": "70ec41a1",
   "metadata": {},
   "outputs": [
    {
     "data": {
      "text/plain": [
       "0"
      ]
     },
     "execution_count": 69,
     "metadata": {},
     "output_type": "execute_result"
    }
   ],
   "source": [
    "x.argmin()"
   ]
  },
  {
   "cell_type": "code",
   "execution_count": 71,
   "id": "2d7fe4d7",
   "metadata": {},
   "outputs": [
    {
     "data": {
      "text/plain": [
       "True"
      ]
     },
     "execution_count": 71,
     "metadata": {},
     "output_type": "execute_result"
    }
   ],
   "source": [
    "x[x.argmin()] == x.min()"
   ]
  },
  {
   "cell_type": "code",
   "execution_count": 72,
   "id": "fcfdbf72",
   "metadata": {},
   "outputs": [
    {
     "data": {
      "text/plain": [
       "2"
      ]
     },
     "execution_count": 72,
     "metadata": {},
     "output_type": "execute_result"
    }
   ],
   "source": [
    "x.argmax()"
   ]
  },
  {
   "cell_type": "markdown",
   "id": "a0461b52",
   "metadata": {},
   "source": [
    "### Matrices and lineat algebra"
   ]
  },
  {
   "cell_type": "code",
   "execution_count": 73,
   "id": "c2d41461",
   "metadata": {},
   "outputs": [
    {
     "data": {
      "text/plain": [
       "array([[1, 2, 3],\n",
       "       [4, 5, 6]])"
      ]
     },
     "execution_count": 73,
     "metadata": {},
     "output_type": "execute_result"
    }
   ],
   "source": [
    "A = np.array([[1,2,3],[4,5,6]])\n",
    "A"
   ]
  },
  {
   "cell_type": "code",
   "execution_count": 74,
   "id": "d37daca2",
   "metadata": {},
   "outputs": [
    {
     "data": {
      "text/plain": [
       "(2, 3)"
      ]
     },
     "execution_count": 74,
     "metadata": {},
     "output_type": "execute_result"
    }
   ],
   "source": [
    "A.shape"
   ]
  },
  {
   "cell_type": "code",
   "execution_count": 75,
   "id": "75a39f8a",
   "metadata": {},
   "outputs": [
    {
     "data": {
      "text/plain": [
       "3.5"
      ]
     },
     "execution_count": 75,
     "metadata": {},
     "output_type": "execute_result"
    }
   ],
   "source": [
    "A.mean()"
   ]
  },
  {
   "cell_type": "code",
   "execution_count": 76,
   "id": "6f72ad4e",
   "metadata": {
    "scrolled": true
   },
   "outputs": [
    {
     "data": {
      "text/plain": [
       "6"
      ]
     },
     "execution_count": 76,
     "metadata": {},
     "output_type": "execute_result"
    }
   ],
   "source": [
    "A.max()"
   ]
  },
  {
   "cell_type": "code",
   "execution_count": 77,
   "id": "f6f873e9",
   "metadata": {},
   "outputs": [
    {
     "data": {
      "text/plain": [
       "5"
      ]
     },
     "execution_count": 77,
     "metadata": {},
     "output_type": "execute_result"
    }
   ],
   "source": [
    "A.argmax()"
   ]
  },
  {
   "cell_type": "markdown",
   "id": "95031484",
   "metadata": {},
   "source": [
    "### Transpose\n",
    "Switch rows and columns"
   ]
  },
  {
   "cell_type": "code",
   "execution_count": 78,
   "id": "dd4ca51b",
   "metadata": {},
   "outputs": [
    {
     "data": {
      "text/plain": [
       "array([[1, 2, 3],\n",
       "       [4, 5, 6]])"
      ]
     },
     "execution_count": 78,
     "metadata": {},
     "output_type": "execute_result"
    }
   ],
   "source": [
    "A"
   ]
  },
  {
   "cell_type": "code",
   "execution_count": 79,
   "id": "397851f6",
   "metadata": {},
   "outputs": [
    {
     "data": {
      "text/plain": [
       "array([[1, 4],\n",
       "       [2, 5],\n",
       "       [3, 6]])"
      ]
     },
     "execution_count": 79,
     "metadata": {},
     "output_type": "execute_result"
    }
   ],
   "source": [
    "B = A.T\n",
    "B"
   ]
  },
  {
   "cell_type": "code",
   "execution_count": 81,
   "id": "3f22d17c",
   "metadata": {
    "scrolled": true
   },
   "outputs": [
    {
     "data": {
      "text/plain": [
       "(3, 2)"
      ]
     },
     "execution_count": 81,
     "metadata": {},
     "output_type": "execute_result"
    }
   ],
   "source": [
    "B.shape"
   ]
  },
  {
   "cell_type": "code",
   "execution_count": 83,
   "id": "28cd4f52",
   "metadata": {},
   "outputs": [
    {
     "data": {
      "text/plain": [
       "array([[2, 2, 3],\n",
       "       [7, 4, 5]])"
      ]
     },
     "execution_count": 83,
     "metadata": {},
     "output_type": "execute_result"
    }
   ],
   "source": [
    "C = np.random.randint(0,10, (2,3)) #create a array with 2 rows and 3 ocolumns aand inserts it in random manner from 0-100\n",
    "C"
   ]
  },
  {
   "cell_type": "code",
   "execution_count": 84,
   "id": "8ec2253e",
   "metadata": {},
   "outputs": [
    {
     "data": {
      "text/plain": [
       "(2, 3)"
      ]
     },
     "execution_count": 84,
     "metadata": {},
     "output_type": "execute_result"
    }
   ],
   "source": [
    "C.shape"
   ]
  },
  {
   "cell_type": "code",
   "execution_count": 85,
   "id": "980c8b3e",
   "metadata": {},
   "outputs": [
    {
     "ename": "ValueError",
     "evalue": "operands could not be broadcast together with shapes (2,3) (3,2) ",
     "output_type": "error",
     "traceback": [
      "\u001b[1;31m---------------------------------------------------------------------------\u001b[0m",
      "\u001b[1;31mValueError\u001b[0m                                Traceback (most recent call last)",
      "Cell \u001b[1;32mIn[85], line 1\u001b[0m\n\u001b[1;32m----> 1\u001b[0m A \u001b[38;5;241m+\u001b[39m B\n",
      "\u001b[1;31mValueError\u001b[0m: operands could not be broadcast together with shapes (2,3) (3,2) "
     ]
    }
   ],
   "source": [
    "A + B #GIVES ERROR BECUASE SHAPE IS NOT SAME"
   ]
  },
  {
   "cell_type": "code",
   "execution_count": 86,
   "id": "977d220d",
   "metadata": {},
   "outputs": [
    {
     "data": {
      "text/plain": [
       "array([[ 3,  4,  6],\n",
       "       [11,  9, 11]])"
      ]
     },
     "execution_count": 86,
     "metadata": {},
     "output_type": "execute_result"
    }
   ],
   "source": [
    "A + C"
   ]
  },
  {
   "cell_type": "markdown",
   "id": "274c204b",
   "metadata": {},
   "source": [
    "### Dot-product\n",
    "The dot product requires the matrices to be aligned\n",
    "e.g A.shape = 2*3, B.shape = 3*2 output 2*2"
   ]
  },
  {
   "cell_type": "code",
   "execution_count": 87,
   "id": "61a890cc",
   "metadata": {},
   "outputs": [
    {
     "data": {
      "text/plain": [
       "array([[14, 32],\n",
       "       [32, 77]])"
      ]
     },
     "execution_count": 87,
     "metadata": {},
     "output_type": "execute_result"
    }
   ],
   "source": [
    "np.dot(A, B)"
   ]
  },
  {
   "cell_type": "code",
   "execution_count": 89,
   "id": "a36705a9",
   "metadata": {},
   "outputs": [
    {
     "ename": "ValueError",
     "evalue": "shapes (2,3) and (2,3) not aligned: 3 (dim 1) != 2 (dim 0)",
     "output_type": "error",
     "traceback": [
      "\u001b[1;31m---------------------------------------------------------------------------\u001b[0m",
      "\u001b[1;31mValueError\u001b[0m                                Traceback (most recent call last)",
      "Cell \u001b[1;32mIn[89], line 1\u001b[0m\n\u001b[1;32m----> 1\u001b[0m np\u001b[38;5;241m.\u001b[39mdot(A, C)\n",
      "File \u001b[1;32m<__array_function__ internals>:200\u001b[0m, in \u001b[0;36mdot\u001b[1;34m(*args, **kwargs)\u001b[0m\n",
      "\u001b[1;31mValueError\u001b[0m: shapes (2,3) and (2,3) not aligned: 3 (dim 1) != 2 (dim 0)"
     ]
    }
   ],
   "source": [
    "np.dot(A, C) #NUMBER OF ROWS SHOULD MATCH WOTH COLUMNS OF OTHER MATRICES"
   ]
  },
  {
   "cell_type": "markdown",
   "id": "f4581de1",
   "metadata": {},
   "source": [
    "### Reshaping,indexing,slicing of arrays"
   ]
  },
  {
   "cell_type": "markdown",
   "id": "2ea9c620",
   "metadata": {},
   "source": [
    "#### Reshaping"
   ]
  },
  {
   "cell_type": "code",
   "execution_count": 90,
   "id": "e7e05297",
   "metadata": {},
   "outputs": [
    {
     "data": {
      "text/plain": [
       "array([[1, 2, 3],\n",
       "       [4, 5, 6]])"
      ]
     },
     "execution_count": 90,
     "metadata": {},
     "output_type": "execute_result"
    }
   ],
   "source": [
    "x = np.array([1,2,3,4,5,6])\n",
    "x.resize(2,3)\n",
    "x"
   ]
  },
  {
   "cell_type": "code",
   "execution_count": 95,
   "id": "710ed4de",
   "metadata": {},
   "outputs": [
    {
     "data": {
      "text/plain": [
       "array([1, 2, 3, 4, 5, 6])"
      ]
     },
     "execution_count": 95,
     "metadata": {},
     "output_type": "execute_result"
    }
   ],
   "source": [
    "x = np.array([1,2,3,4,5,6])\n",
    "y = x.reshape(2,3)\n",
    "x"
   ]
  },
  {
   "cell_type": "code",
   "execution_count": 96,
   "id": "cc30ab4f",
   "metadata": {},
   "outputs": [
    {
     "data": {
      "text/plain": [
       "array([[1, 2, 3],\n",
       "       [4, 5, 6]])"
      ]
     },
     "execution_count": 96,
     "metadata": {},
     "output_type": "execute_result"
    }
   ],
   "source": [
    "y"
   ]
  },
  {
   "cell_type": "code",
   "execution_count": 97,
   "id": "7d5811b4",
   "metadata": {},
   "outputs": [],
   "source": [
    "from random import randint"
   ]
  },
  {
   "cell_type": "code",
   "execution_count": 113,
   "id": "cf4d2cba",
   "metadata": {},
   "outputs": [
    {
     "data": {
      "text/plain": [
       "array([0, 1, 2, 3, 4, 5, 6, 7, 8, 9])"
      ]
     },
     "execution_count": 113,
     "metadata": {},
     "output_type": "execute_result"
    }
   ],
   "source": [
    "some_number = randint(1,3)\n",
    "x = np.arange(5 * some_number)\n",
    "x"
   ]
  },
  {
   "cell_type": "code",
   "execution_count": 114,
   "id": "7e85e99e",
   "metadata": {},
   "outputs": [
    {
     "data": {
      "text/plain": [
       "array([[0, 1],\n",
       "       [2, 3],\n",
       "       [4, 5],\n",
       "       [6, 7],\n",
       "       [8, 9]])"
      ]
     },
     "execution_count": 114,
     "metadata": {},
     "output_type": "execute_result"
    }
   ],
   "source": [
    "y = x.reshape(5,-1)\n",
    "y"
   ]
  },
  {
   "cell_type": "code",
   "execution_count": 115,
   "id": "9e5b522b",
   "metadata": {},
   "outputs": [
    {
     "data": {
      "text/plain": [
       "array([[0, 1, 2, 3, 4],\n",
       "       [5, 6, 7, 8, 9]])"
      ]
     },
     "execution_count": 115,
     "metadata": {},
     "output_type": "execute_result"
    }
   ],
   "source": [
    "y = x.reshape(-1,5)\n",
    "y"
   ]
  },
  {
   "cell_type": "code",
   "execution_count": 116,
   "id": "8c0b4908",
   "metadata": {},
   "outputs": [
    {
     "ename": "ValueError",
     "evalue": "cannot reshape array of size 10 into shape (4,newaxis)",
     "output_type": "error",
     "traceback": [
      "\u001b[1;31m---------------------------------------------------------------------------\u001b[0m",
      "\u001b[1;31mValueError\u001b[0m                                Traceback (most recent call last)",
      "Cell \u001b[1;32mIn[116], line 1\u001b[0m\n\u001b[1;32m----> 1\u001b[0m y \u001b[38;5;241m=\u001b[39m x\u001b[38;5;241m.\u001b[39mreshape(\u001b[38;5;241m4\u001b[39m,\u001b[38;5;241m-\u001b[39m\u001b[38;5;241m1\u001b[39m)\n",
      "\u001b[1;31mValueError\u001b[0m: cannot reshape array of size 10 into shape (4,newaxis)"
     ]
    }
   ],
   "source": [
    "y = x.reshape(4,-1) #raise value error"
   ]
  },
  {
   "cell_type": "markdown",
   "id": "f62cb6d6",
   "metadata": {},
   "source": [
    "### Indexing and slicing"
   ]
  },
  {
   "cell_type": "code",
   "execution_count": 117,
   "id": "71fd1a80",
   "metadata": {},
   "outputs": [
    {
     "data": {
      "text/plain": [
       "array([0, 1, 2, 3, 4, 5])"
      ]
     },
     "execution_count": 117,
     "metadata": {},
     "output_type": "execute_result"
    }
   ],
   "source": [
    "x = np.arange(6)\n",
    "x"
   ]
  },
  {
   "cell_type": "code",
   "execution_count": 118,
   "id": "09977411",
   "metadata": {},
   "outputs": [
    {
     "data": {
      "text/plain": [
       "2"
      ]
     },
     "execution_count": 118,
     "metadata": {},
     "output_type": "execute_result"
    }
   ],
   "source": [
    "x[2]"
   ]
  },
  {
   "cell_type": "code",
   "execution_count": 119,
   "id": "0590292d",
   "metadata": {},
   "outputs": [
    {
     "data": {
      "text/plain": [
       "array([2, 3])"
      ]
     },
     "execution_count": 119,
     "metadata": {},
     "output_type": "execute_result"
    }
   ],
   "source": [
    "x[2:4]"
   ]
  },
  {
   "cell_type": "code",
   "execution_count": 120,
   "id": "cd7c8765",
   "metadata": {},
   "outputs": [
    {
     "data": {
      "text/plain": [
       "array([5, 4, 3, 2, 1, 0])"
      ]
     },
     "execution_count": 120,
     "metadata": {},
     "output_type": "execute_result"
    }
   ],
   "source": [
    "x[::-1]"
   ]
  },
  {
   "cell_type": "code",
   "execution_count": 121,
   "id": "48ecab93",
   "metadata": {},
   "outputs": [
    {
     "data": {
      "text/plain": [
       "array([  0,   1, 100, 100,   4,   5])"
      ]
     },
     "execution_count": 121,
     "metadata": {},
     "output_type": "execute_result"
    }
   ],
   "source": [
    "x[2:4] = 100 \n",
    "x"
   ]
  },
  {
   "cell_type": "markdown",
   "id": "4a3dcfa3",
   "metadata": {},
   "source": [
    "### Broadcasting vs copying"
   ]
  },
  {
   "cell_type": "code",
   "execution_count": 122,
   "id": "01cf45ab",
   "metadata": {},
   "outputs": [],
   "source": [
    "x = np.arange(6)"
   ]
  },
  {
   "cell_type": "code",
   "execution_count": 123,
   "id": "f05cc99f",
   "metadata": {},
   "outputs": [
    {
     "data": {
      "text/plain": [
       "array([2, 3])"
      ]
     },
     "execution_count": 123,
     "metadata": {},
     "output_type": "execute_result"
    }
   ],
   "source": [
    "x_slice = x[2:4]\n",
    "x_slice"
   ]
  },
  {
   "cell_type": "code",
   "execution_count": 124,
   "id": "16e12377",
   "metadata": {},
   "outputs": [
    {
     "data": {
      "text/plain": [
       "array([0, 1, 2, 3, 4, 5])"
      ]
     },
     "execution_count": 124,
     "metadata": {},
     "output_type": "execute_result"
    }
   ],
   "source": [
    "x"
   ]
  },
  {
   "cell_type": "code",
   "execution_count": 125,
   "id": "c5f82e48",
   "metadata": {},
   "outputs": [
    {
     "data": {
      "text/plain": [
       "array([  0,   1, 100, 100,   4,   5])"
      ]
     },
     "execution_count": 125,
     "metadata": {},
     "output_type": "execute_result"
    }
   ],
   "source": [
    "x_slice[:] = 100 \n",
    "x"
   ]
  },
  {
   "cell_type": "code",
   "execution_count": 126,
   "id": "3c38d3b3",
   "metadata": {},
   "outputs": [
    {
     "data": {
      "text/plain": [
       "array([0, 1, 2, 3, 4, 5])"
      ]
     },
     "execution_count": 126,
     "metadata": {},
     "output_type": "execute_result"
    }
   ],
   "source": [
    "x = np.arange(6)\n",
    "x_slice = x[2:4].copy()\n",
    "\n",
    "x_slice[:] = 100\n",
    "x"
   ]
  },
  {
   "cell_type": "code",
   "execution_count": 128,
   "id": "e9134e32",
   "metadata": {},
   "outputs": [
    {
     "data": {
      "text/plain": [
       "array([100, 100])"
      ]
     },
     "execution_count": 128,
     "metadata": {},
     "output_type": "execute_result"
    }
   ],
   "source": [
    "x_slice"
   ]
  },
  {
   "cell_type": "markdown",
   "id": "b556e60d",
   "metadata": {},
   "source": [
    "### Two dimensional indexing and slicing"
   ]
  },
  {
   "cell_type": "code",
   "execution_count": 129,
   "id": "4bf35517",
   "metadata": {},
   "outputs": [
    {
     "data": {
      "text/plain": [
       "array([[1, 2, 3],\n",
       "       [4, 5, 6],\n",
       "       [7, 8, 9]])"
      ]
     },
     "execution_count": 129,
     "metadata": {},
     "output_type": "execute_result"
    }
   ],
   "source": [
    "x = np.array([[1,2,3],[4,5,6],[7,8,9]])\n",
    "x"
   ]
  },
  {
   "cell_type": "code",
   "execution_count": 130,
   "id": "4eae3336",
   "metadata": {},
   "outputs": [
    {
     "data": {
      "text/plain": [
       "array([1, 2, 3])"
      ]
     },
     "execution_count": 130,
     "metadata": {},
     "output_type": "execute_result"
    }
   ],
   "source": [
    "x[0]"
   ]
  },
  {
   "cell_type": "code",
   "execution_count": 131,
   "id": "94ea1e90",
   "metadata": {},
   "outputs": [
    {
     "data": {
      "text/plain": [
       "3"
      ]
     },
     "execution_count": 131,
     "metadata": {},
     "output_type": "execute_result"
    }
   ],
   "source": [
    "x[0][2]"
   ]
  },
  {
   "cell_type": "code",
   "execution_count": 132,
   "id": "7e6daf10",
   "metadata": {},
   "outputs": [
    {
     "data": {
      "text/plain": [
       "3"
      ]
     },
     "execution_count": 132,
     "metadata": {},
     "output_type": "execute_result"
    }
   ],
   "source": [
    "x[0,2]"
   ]
  },
  {
   "cell_type": "code",
   "execution_count": 133,
   "id": "1580806c",
   "metadata": {},
   "outputs": [
    {
     "data": {
      "text/plain": [
       "array([1, 4, 7])"
      ]
     },
     "execution_count": 133,
     "metadata": {},
     "output_type": "execute_result"
    }
   ],
   "source": [
    "x[:, 0] #first column"
   ]
  },
  {
   "cell_type": "code",
   "execution_count": 134,
   "id": "7989fe97",
   "metadata": {},
   "outputs": [
    {
     "data": {
      "text/plain": [
       "array([[2, 3],\n",
       "       [5, 6]])"
      ]
     },
     "execution_count": 134,
     "metadata": {},
     "output_type": "execute_result"
    }
   ],
   "source": [
    "x[0:2, 1:]"
   ]
  },
  {
   "cell_type": "markdown",
   "id": "63b7d171",
   "metadata": {},
   "source": [
    "### Boolean indexing"
   ]
  },
  {
   "cell_type": "code",
   "execution_count": 148,
   "id": "27a94468",
   "metadata": {},
   "outputs": [
    {
     "data": {
      "text/plain": [
       "array([[5, 3, 0],\n",
       "       [3, 4, 5],\n",
       "       [0, 1, 7],\n",
       "       [8, 1, 3],\n",
       "       [6, 2, 0],\n",
       "       [0, 1, 2]])"
      ]
     },
     "execution_count": 148,
     "metadata": {},
     "output_type": "execute_result"
    }
   ],
   "source": [
    "names = np.array(['Bob', 'Alice', 'Charles', 'Bob', 'Billie', 'Bob'])\n",
    "\n",
    "data = np.random.randint(0,10, (6,3))\n",
    "data"
   ]
  },
  {
   "cell_type": "code",
   "execution_count": 146,
   "id": "a34a408d",
   "metadata": {},
   "outputs": [
    {
     "data": {
      "text/plain": [
       "array([ True, False, False,  True, False,  True])"
      ]
     },
     "execution_count": 146,
     "metadata": {},
     "output_type": "execute_result"
    }
   ],
   "source": [
    "names == 'Bob'"
   ]
  },
  {
   "cell_type": "code",
   "execution_count": 149,
   "id": "26eee2b6",
   "metadata": {},
   "outputs": [
    {
     "data": {
      "text/plain": [
       "array([[5, 3, 0],\n",
       "       [8, 1, 3],\n",
       "       [0, 1, 2]])"
      ]
     },
     "execution_count": 149,
     "metadata": {},
     "output_type": "execute_result"
    }
   ],
   "source": [
    "data[names == 'Bob']"
   ]
  },
  {
   "cell_type": "code",
   "execution_count": null,
   "id": "738e032b",
   "metadata": {},
   "outputs": [],
   "source": []
  }
 ],
 "metadata": {
  "kernelspec": {
   "display_name": "Python 3 (ipykernel)",
   "language": "python",
   "name": "python3"
  },
  "language_info": {
   "codemirror_mode": {
    "name": "ipython",
    "version": 3
   },
   "file_extension": ".py",
   "mimetype": "text/x-python",
   "name": "python",
   "nbconvert_exporter": "python",
   "pygments_lexer": "ipython3",
   "version": "3.11.3"
  }
 },
 "nbformat": 4,
 "nbformat_minor": 5
}
